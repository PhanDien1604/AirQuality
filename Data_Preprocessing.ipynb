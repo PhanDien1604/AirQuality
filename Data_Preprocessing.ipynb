{
 "cells": [
  {
   "cell_type": "code",
   "execution_count": 4,
   "metadata": {},
   "outputs": [],
   "source": [
    "import mysql.connector as mysql\n",
    "from mysql.connector import Error\n",
    "import sqlite3\n",
    "import numpy as np\n",
    "import pandas as pd"
   ]
  },
  {
   "attachments": {},
   "cell_type": "markdown",
   "metadata": {},
   "source": [
    "### DATA PREPROCESSING"
   ]
  },
  {
   "cell_type": "code",
   "execution_count": 3,
   "metadata": {},
   "outputs": [
    {
     "name": "stdout",
     "output_type": "stream",
     "text": [
      "Kích thước dữ liệu:  29531\n"
     ]
    }
   ],
   "source": [
    "# Nhận tất cả dữ liệu thô từ database\n",
    "\n",
    "try:\n",
    "    connection = mysql.connect(host='localhost',database='air_quality',user='root',password='cuong#Super2001')\n",
    "    if connection.is_connected():\n",
    "        cursor = connection.cursor()\n",
    "        sql = \"select * from air_quality_raw\"\n",
    "        cursor.execute(sql)\n",
    "        record = cursor.fetchall()\n",
    "        print('Kích thước dữ liệu: ',len(record))\n",
    "        connection.commit()\n",
    "        cursor.close()\n",
    "except Error as e:\n",
    "    print('Error',e)"
   ]
  },
  {
   "cell_type": "code",
   "execution_count": 5,
   "metadata": {},
   "outputs": [],
   "source": [
    "# Chuyển dữ liệu sang dạng DataFrame\n",
    "df = pd.DataFrame(record,columns=['ID','City','Date','PM2.5','PM10','NO','NO2','NOx','NH3','CO','SO2','O3','Benzene','Toluene','Xylene','AQI','AQI_Bucket'])\n",
    "# df = pd.read_csv('IOT/city_day.csv')\n",
    "df = df.drop(columns=['ID'])"
   ]
  },
  {
   "cell_type": "code",
   "execution_count": 6,
   "metadata": {},
   "outputs": [
    {
     "data": {
      "text/html": [
       "<div>\n",
       "<style scoped>\n",
       "    .dataframe tbody tr th:only-of-type {\n",
       "        vertical-align: middle;\n",
       "    }\n",
       "\n",
       "    .dataframe tbody tr th {\n",
       "        vertical-align: top;\n",
       "    }\n",
       "\n",
       "    .dataframe thead th {\n",
       "        text-align: right;\n",
       "    }\n",
       "</style>\n",
       "<table border=\"1\" class=\"dataframe\">\n",
       "  <thead>\n",
       "    <tr style=\"text-align: right;\">\n",
       "      <th></th>\n",
       "      <th>PM2.5</th>\n",
       "      <th>PM10</th>\n",
       "      <th>NO</th>\n",
       "      <th>NO2</th>\n",
       "      <th>NOx</th>\n",
       "      <th>NH3</th>\n",
       "      <th>CO</th>\n",
       "      <th>O3</th>\n",
       "      <th>Toluene</th>\n",
       "      <th>AQI</th>\n",
       "    </tr>\n",
       "  </thead>\n",
       "  <tbody>\n",
       "    <tr>\n",
       "      <th>0</th>\n",
       "      <td>NaN</td>\n",
       "      <td>NaN</td>\n",
       "      <td>0.92</td>\n",
       "      <td>18.22</td>\n",
       "      <td>17.15</td>\n",
       "      <td>NaN</td>\n",
       "      <td>0.92</td>\n",
       "      <td>133.36</td>\n",
       "      <td>0.02</td>\n",
       "      <td>NaN</td>\n",
       "    </tr>\n",
       "    <tr>\n",
       "      <th>1</th>\n",
       "      <td>NaN</td>\n",
       "      <td>NaN</td>\n",
       "      <td>0.97</td>\n",
       "      <td>15.69</td>\n",
       "      <td>16.46</td>\n",
       "      <td>NaN</td>\n",
       "      <td>0.97</td>\n",
       "      <td>34.06</td>\n",
       "      <td>5.50</td>\n",
       "      <td>NaN</td>\n",
       "    </tr>\n",
       "    <tr>\n",
       "      <th>2</th>\n",
       "      <td>NaN</td>\n",
       "      <td>NaN</td>\n",
       "      <td>17.40</td>\n",
       "      <td>19.30</td>\n",
       "      <td>29.70</td>\n",
       "      <td>NaN</td>\n",
       "      <td>17.40</td>\n",
       "      <td>30.70</td>\n",
       "      <td>16.40</td>\n",
       "      <td>NaN</td>\n",
       "    </tr>\n",
       "    <tr>\n",
       "      <th>3</th>\n",
       "      <td>NaN</td>\n",
       "      <td>NaN</td>\n",
       "      <td>1.70</td>\n",
       "      <td>18.48</td>\n",
       "      <td>17.97</td>\n",
       "      <td>NaN</td>\n",
       "      <td>1.70</td>\n",
       "      <td>36.08</td>\n",
       "      <td>10.14</td>\n",
       "      <td>NaN</td>\n",
       "    </tr>\n",
       "    <tr>\n",
       "      <th>4</th>\n",
       "      <td>NaN</td>\n",
       "      <td>NaN</td>\n",
       "      <td>22.10</td>\n",
       "      <td>21.42</td>\n",
       "      <td>37.76</td>\n",
       "      <td>NaN</td>\n",
       "      <td>22.10</td>\n",
       "      <td>39.31</td>\n",
       "      <td>18.89</td>\n",
       "      <td>NaN</td>\n",
       "    </tr>\n",
       "  </tbody>\n",
       "</table>\n",
       "</div>"
      ],
      "text/plain": [
       "   PM2.5  PM10     NO    NO2    NOx  NH3     CO      O3  Toluene  AQI\n",
       "0    NaN   NaN   0.92  18.22  17.15  NaN   0.92  133.36     0.02  NaN\n",
       "1    NaN   NaN   0.97  15.69  16.46  NaN   0.97   34.06     5.50  NaN\n",
       "2    NaN   NaN  17.40  19.30  29.70  NaN  17.40   30.70    16.40  NaN\n",
       "3    NaN   NaN   1.70  18.48  17.97  NaN   1.70   36.08    10.14  NaN\n",
       "4    NaN   NaN  22.10  21.42  37.76  NaN  22.10   39.31    18.89  NaN"
      ]
     },
     "execution_count": 6,
     "metadata": {},
     "output_type": "execute_result"
    }
   ],
   "source": [
    "'''\n",
    "Loại bỏ 3 thuộc tính có chỉ số corr thấp nhất Xylene(0.07), Benzene(0.21), SO2(0.25) và các dữ liệu không phải dạng số\n",
    "'''\n",
    "df = df.drop(columns=['City','Date','AQI_Bucket','Xylene','Benzene','SO2'])\n",
    "df.head()"
   ]
  },
  {
   "cell_type": "code",
   "execution_count": 8,
   "metadata": {},
   "outputs": [
    {
     "data": {
      "text/plain": [
       "(10960, 10)"
      ]
     },
     "execution_count": 8,
     "metadata": {},
     "output_type": "execute_result"
    }
   ],
   "source": [
    "# Bỏ các giá trị trống\n",
    "df = df.dropna()\n",
    "df.shape"
   ]
  },
  {
   "attachments": {},
   "cell_type": "markdown",
   "metadata": {},
   "source": [
    "### DATABASE CONNECTION"
   ]
  },
  {
   "cell_type": "code",
   "execution_count": 16,
   "metadata": {},
   "outputs": [
    {
     "name": "stdout",
     "output_type": "stream",
     "text": [
      "New table was created\n"
     ]
    }
   ],
   "source": [
    "# Tạo database cho dữ liệu sau khi xử lý\n",
    "try:\n",
    "    connection = mysql.connect(host='localhost',database='air_quality',user='root',password='cuong#Super2001')\n",
    "    if connection.is_connected():\n",
    "        cursor = connection.cursor()\n",
    "        cursor.execute('CREATE TABLE if not exists preprocessed_air_quality (ID int NOT NULL AUTO_INCREMENT PRIMARY KEY,`PM2.5` double,`PM10` double,`NO` double,`NO2` double,NOx double,`NH3` double,`CO` double,O3 double,Toluene double,AQI double)')\n",
    "        print('New table was created')\n",
    "        connection.commit()\n",
    "        cursor.close()\n",
    "except Error as e:\n",
    "    print('Error',e)"
   ]
  },
  {
   "cell_type": "code",
   "execution_count": 13,
   "metadata": {},
   "outputs": [],
   "source": [
    "# Import records of corr_matrix into database\n",
    "try:\n",
    "    connection = mysql.connect(host='localhost',database='air_quality',user='root',password='cuong#Super2001')\n",
    "    if connection.is_connected():\n",
    "        cursor = connection.cursor()\n",
    "        for i,row in df.iterrows():\n",
    "            sql = \"INSERT INTO preprocessed_air_quality(`PM2.5`,`PM10`,`NO`,`NO2`,NOx,`NH3`,`CO`,O3,Toluene,AQI) VALUES (%s,%s,%s,%s,%s,%s,%s,%s,%s,%s)\"\n",
    "            cursor.execute(sql,tuple(row))\n",
    "            # print('Inserted record')\n",
    "        connection.commit()\n",
    "        cursor.close()\n",
    "except Error as e:\n",
    "    print('Error',e)"
   ]
  },
  {
   "cell_type": "code",
   "execution_count": 15,
   "metadata": {},
   "outputs": [
    {
     "name": "stdout",
     "output_type": "stream",
     "text": [
      "Table was dropped\n"
     ]
    }
   ],
   "source": [
    "# Nếu đã tồn tại, có thể xóa để tạo một database khác\n",
    "\n",
    "\n",
    "try:\n",
    "    connection = mysql.connect(host='localhost',database='air_quality',user='root',password='cuong#Super2001')\n",
    "    if connection.is_connected():\n",
    "        cursor = connection.cursor()\n",
    "        tbl_name = \"preprocessed_air_quality\"\n",
    "        sql = \"drop table if exists \"+tbl_name\n",
    "        cursor.execute(sql)\n",
    "        print('Table was dropped')\n",
    "        connection.commit()\n",
    "        cursor.close()\n",
    "except Error as e:\n",
    "    print('Error',e)\n"
   ]
  }
 ],
 "metadata": {
  "kernelspec": {
   "display_name": "Python 3",
   "language": "python",
   "name": "python3"
  },
  "language_info": {
   "codemirror_mode": {
    "name": "ipython",
    "version": 3
   },
   "file_extension": ".py",
   "mimetype": "text/x-python",
   "name": "python",
   "nbconvert_exporter": "python",
   "pygments_lexer": "ipython3",
   "version": "3.9.7 (tags/v3.9.7:1016ef3, Aug 30 2021, 20:19:38) [MSC v.1929 64 bit (AMD64)]"
  },
  "orig_nbformat": 4,
  "vscode": {
   "interpreter": {
    "hash": "25034407fed5d681614dac11a1c0537e8cb49e3a8883c071303eea01322943d9"
   }
  }
 },
 "nbformat": 4,
 "nbformat_minor": 2
}
