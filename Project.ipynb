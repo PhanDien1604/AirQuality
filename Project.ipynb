{
 "cells": [
  {
   "cell_type": "code",
   "execution_count": 48,
   "metadata": {
    "collapsed": false
   },
   "outputs": [],
   "source": [
    "import mysql.connector as mysql\n",
    "from mysql.connector import Error\n",
    "import sqlite3\n",
    "import numpy as np\n",
    "import pandas as pd\n",
    "import math"
   ]
  },
  {
   "cell_type": "markdown",
   "metadata": {
    "collapsed": false
   },
   "source": [
    "### DATA PREPROCESSING"
   ]
  },
  {
   "cell_type": "code",
   "execution_count": 49,
   "metadata": {
    "collapsed": false
   },
   "outputs": [
    {
     "name": "stdout",
     "output_type": "stream",
     "text": [
      "Error Authentication plugin 'caching_sha2_password' is not supported\n"
     ]
    }
   ],
   "source": [
    "# Nhận tất cả dữ liệu thô từ database\n",
    "\n",
    "try:\n",
    "    connection = mysql.connect(host='localhost', database='air_quality', user='root', password='password')\n",
    "    if connection.is_connected():\n",
    "        cursor = connection.cursor()\n",
    "        sql = \"select * from air_quality_raw\"\n",
    "        cursor.execute(sql)\n",
    "        record = cursor.fetchall()\n",
    "        print('Kích thước dữ liệu: ', len(record))\n",
    "        connection.commit()\n",
    "        cursor.close()\n",
    "except Error as e:\n",
    "    print('Error', e)"
   ]
  },
  {
   "cell_type": "code",
   "execution_count": 50,
   "metadata": {
    "collapsed": false
   },
   "outputs": [],
   "source": [
    "# Chuyển dữ liệu sang dạng DataFrame\n",
    "# df = pd.DataFrame(record, columns=['ID', 'City', 'Date', 'PM2.5', 'PM10', 'NO', 'NO2', 'NOx', 'NH3', 'CO', 'SO2', 'O3',\n",
    "#                                    'Benzene', 'Toluene', 'Xylene', 'AQI', 'AQI_Bucket'])\n",
    "df = pd.read_csv('../airquality/city_day.csv')\n",
    "# df = df.drop(columns=['ID'])"
   ]
  },
  {
   "cell_type": "code",
   "execution_count": 51,
   "metadata": {
    "collapsed": false
   },
   "outputs": [
    {
     "data": {
      "text/html": [
       "<div>\n",
       "<style scoped>\n",
       "    .dataframe tbody tr th:only-of-type {\n",
       "        vertical-align: middle;\n",
       "    }\n",
       "\n",
       "    .dataframe tbody tr th {\n",
       "        vertical-align: top;\n",
       "    }\n",
       "\n",
       "    .dataframe thead th {\n",
       "        text-align: right;\n",
       "    }\n",
       "</style>\n",
       "<table border=\"1\" class=\"dataframe\">\n",
       "  <thead>\n",
       "    <tr style=\"text-align: right;\">\n",
       "      <th></th>\n",
       "      <th>PM2.5</th>\n",
       "      <th>PM10</th>\n",
       "      <th>NO</th>\n",
       "      <th>NO2</th>\n",
       "      <th>NOx</th>\n",
       "      <th>NH3</th>\n",
       "      <th>CO</th>\n",
       "      <th>O3</th>\n",
       "      <th>Toluene</th>\n",
       "      <th>AQI</th>\n",
       "    </tr>\n",
       "  </thead>\n",
       "  <tbody>\n",
       "    <tr>\n",
       "      <th>0</th>\n",
       "      <td>NaN</td>\n",
       "      <td>NaN</td>\n",
       "      <td>0.92</td>\n",
       "      <td>18.22</td>\n",
       "      <td>17.15</td>\n",
       "      <td>NaN</td>\n",
       "      <td>0.92</td>\n",
       "      <td>133.36</td>\n",
       "      <td>0.02</td>\n",
       "      <td>NaN</td>\n",
       "    </tr>\n",
       "    <tr>\n",
       "      <th>1</th>\n",
       "      <td>NaN</td>\n",
       "      <td>NaN</td>\n",
       "      <td>0.97</td>\n",
       "      <td>15.69</td>\n",
       "      <td>16.46</td>\n",
       "      <td>NaN</td>\n",
       "      <td>0.97</td>\n",
       "      <td>34.06</td>\n",
       "      <td>5.50</td>\n",
       "      <td>NaN</td>\n",
       "    </tr>\n",
       "    <tr>\n",
       "      <th>2</th>\n",
       "      <td>NaN</td>\n",
       "      <td>NaN</td>\n",
       "      <td>17.40</td>\n",
       "      <td>19.30</td>\n",
       "      <td>29.70</td>\n",
       "      <td>NaN</td>\n",
       "      <td>17.40</td>\n",
       "      <td>30.70</td>\n",
       "      <td>16.40</td>\n",
       "      <td>NaN</td>\n",
       "    </tr>\n",
       "    <tr>\n",
       "      <th>3</th>\n",
       "      <td>NaN</td>\n",
       "      <td>NaN</td>\n",
       "      <td>1.70</td>\n",
       "      <td>18.48</td>\n",
       "      <td>17.97</td>\n",
       "      <td>NaN</td>\n",
       "      <td>1.70</td>\n",
       "      <td>36.08</td>\n",
       "      <td>10.14</td>\n",
       "      <td>NaN</td>\n",
       "    </tr>\n",
       "    <tr>\n",
       "      <th>4</th>\n",
       "      <td>NaN</td>\n",
       "      <td>NaN</td>\n",
       "      <td>22.10</td>\n",
       "      <td>21.42</td>\n",
       "      <td>37.76</td>\n",
       "      <td>NaN</td>\n",
       "      <td>22.10</td>\n",
       "      <td>39.31</td>\n",
       "      <td>18.89</td>\n",
       "      <td>NaN</td>\n",
       "    </tr>\n",
       "  </tbody>\n",
       "</table>\n",
       "</div>"
      ],
      "text/plain": [
       "   PM2.5  PM10     NO    NO2    NOx  NH3     CO      O3  Toluene  AQI\n",
       "0    NaN   NaN   0.92  18.22  17.15  NaN   0.92  133.36     0.02  NaN\n",
       "1    NaN   NaN   0.97  15.69  16.46  NaN   0.97   34.06     5.50  NaN\n",
       "2    NaN   NaN  17.40  19.30  29.70  NaN  17.40   30.70    16.40  NaN\n",
       "3    NaN   NaN   1.70  18.48  17.97  NaN   1.70   36.08    10.14  NaN\n",
       "4    NaN   NaN  22.10  21.42  37.76  NaN  22.10   39.31    18.89  NaN"
      ]
     },
     "execution_count": 51,
     "metadata": {},
     "output_type": "execute_result"
    }
   ],
   "source": [
    "df = df.drop(columns=['City', 'Date', 'AQI_Bucket', 'Xylene', 'Benzene', 'SO2'])\n",
    "df.head()"
   ]
  },
  {
   "cell_type": "code",
   "execution_count": 52,
   "metadata": {
    "collapsed": false
   },
   "outputs": [
    {
     "data": {
      "text/plain": [
       "(10960, 10)"
      ]
     },
     "execution_count": 52,
     "metadata": {},
     "output_type": "execute_result"
    }
   ],
   "source": [
    "# Bỏ các giá trị trống\n",
    "df = df.dropna()\n",
    "df.shape"
   ]
  },
  {
   "cell_type": "markdown",
   "metadata": {
    "collapsed": false
   },
   "source": [
    "### DATABASE CONNECTION"
   ]
  },
  {
   "cell_type": "code",
   "execution_count": 53,
   "metadata": {
    "collapsed": false
   },
   "outputs": [
    {
     "name": "stdout",
     "output_type": "stream",
     "text": [
      "Error Authentication plugin 'caching_sha2_password' is not supported\n"
     ]
    }
   ],
   "source": [
    "# Tạo database cho dữ liệu sau khi xử lý\n",
    "try:\n",
    "    connection = mysql.connect(host='localhost', database='air_quality', user='root', password='16042001')\n",
    "    if connection.is_connected():\n",
    "        cursor = connection.cursor()\n",
    "        cursor.execute(\n",
    "            'CREATE TABLE if not exists preprocessed_air_quality (ID int NOT NULL AUTO_INCREMENT PRIMARY KEY,`PM2.5` double,`PM10` double,`NO` double,`NO2` double,NOx double,`NH3` double,`CO` double,O3 double,Toluene double,AQI double)')\n",
    "        print('New table was created')\n",
    "        connection.commit()\n",
    "        cursor.close()\n",
    "except Error as e:\n",
    "    print('Error', e)"
   ]
  },
  {
   "cell_type": "code",
   "execution_count": 54,
   "metadata": {
    "collapsed": false
   },
   "outputs": [
    {
     "name": "stdout",
     "output_type": "stream",
     "text": [
      "Error Authentication plugin 'caching_sha2_password' is not supported\n"
     ]
    }
   ],
   "source": [
    "# Import records of corr_matrix into database\n",
    "try:\n",
    "    connection = mysql.connect(host='localhost', database='air_quality', user='root', password='cuong#Super2001')\n",
    "    if connection.is_connected():\n",
    "        cursor = connection.cursor()\n",
    "        for i, row in df.iterrows():\n",
    "            sql = \"INSERT INTO preprocessed_air_quality(`PM2.5`,`PM10`,`NO`,`NO2`,NOx,`NH3`,`CO`,O3,Toluene,AQI) VALUES (%s,%s,%s,%s,%s,%s,%s,%s,%s,%s)\"\n",
    "            cursor.execute(sql, tuple(row))\n",
    "            # print('Inserted record')\n",
    "        connection.commit()\n",
    "        cursor.close()\n",
    "except Error as e:\n",
    "    print('Error', e)"
   ]
  },
  {
   "cell_type": "code",
   "execution_count": 55,
   "metadata": {
    "collapsed": false
   },
   "outputs": [],
   "source": [
    "# Nếu đã tồn tại, có thể xóa để tạo một database khác\n",
    "\n",
    "# try:\n",
    "#     connection = mysql.connect(host='localhost', database='air_quality', user='root', password='cuong#Super2001')\n",
    "#     if connection.is_connected():\n",
    "#         cursor = connection.cursor()\n",
    "#         tbl_name = \"preprocessed_air_quality\"\n",
    "#         sql = \"drop table if exists \" + tbl_name\n",
    "#         cursor.execute(sql)\n",
    "#         print('Table was dropped')\n",
    "#         connection.commit()\n",
    "#         cursor.close()\n",
    "# except Error as e:\n",
    "#     print('Error', e)\n"
   ]
  },
  {
   "attachments": {},
   "cell_type": "markdown",
   "metadata": {},
   "source": [
    "# Corr"
   ]
  },
  {
   "cell_type": "code",
   "execution_count": 56,
   "metadata": {},
   "outputs": [],
   "source": [
    "import numpy as np\n",
    "import pandas as pd\n",
    "import matplotlib.pyplot as plt\n",
    "import seaborn as sns"
   ]
  },
  {
   "cell_type": "code",
   "execution_count": 57,
   "metadata": {},
   "outputs": [
    {
     "data": {
      "text/plain": [
       "(6236, 16)"
      ]
     },
     "execution_count": 57,
     "metadata": {},
     "output_type": "execute_result"
    }
   ],
   "source": [
    "df = pd.read_csv('city_day.csv')\n",
    "df = df.dropna()\n",
    "df.shape"
   ]
  },
  {
   "cell_type": "code",
   "execution_count": 58,
   "metadata": {},
   "outputs": [],
   "source": [
    "def get_full_corr(dataset): # In ra ma trận hệ số corr với tất cả các hàng cột của data (>< 1m10s)\n",
    "    # remove object type\n",
    "    drop_col = []\n",
    "    for i in dataset.columns:\n",
    "        if dataset[i].dtypes == object:\n",
    "            drop_col.append(i)\n",
    "    dataset = dataset.drop(columns = drop_col)\n",
    "\n",
    "    list_cov_x_y = []\n",
    "    len_col = len(dataset.columns)\n",
    "    len_row = len(dataset)\n",
    "    labels = list(dataset.columns)\n",
    "    print(labels)\n",
    "    #COV(x, y)\n",
    "    for i in range(0,len_col):\n",
    "        cov_feat = []\n",
    "        i_mean = dataset.iloc[:,i].mean()\n",
    "        for k in range(0, len_col):\n",
    "            cov_x_y = 0.0\n",
    "            k_mean = dataset.iloc[:,k].mean()\n",
    "            for j in range(0,len_row):\n",
    "                cov_x_y += (dataset.iloc[j,i]-i_mean)*(dataset.iloc[j,k]-k_mean)\n",
    "            cov_x_y /= len_row\n",
    "            cov_feat.append(cov_x_y)\n",
    "        list_cov_x_y.append(cov_feat)\n",
    "    print(len(list_cov_x_y))\n",
    "    #COV(x)\n",
    "    list_cov_x = []\n",
    "    for i in range(0,len_col):\n",
    "        i_mean = dataset.iloc[:,i].mean()\n",
    "        cov_x = 0.0\n",
    "        for j in range(0,len_row):\n",
    "            cov_x += (dataset.iloc[j,i]-i_mean)**2\n",
    "        cov_x /= (len_row-1)\n",
    "        list_cov_x.append(cov_x**0.5)\n",
    "    #COV(y)\n",
    "    list_cov_y = []\n",
    "    for i in range(0,len_col):\n",
    "        cov_y_feat = []\n",
    "        for k in range(0, len_col):\n",
    "            cov_y = 0.0\n",
    "            k_mean = dataset.iloc[:,k].mean()\n",
    "            for j in range(0,len_row):\n",
    "                cov_y += (dataset.iloc[j,k]-k_mean)**2\n",
    "            cov_y /= (len_row-1)\n",
    "            cov_y_feat.append(cov_y**0.5)\n",
    "        list_cov_y.append(cov_y_feat)\n",
    "    #CORR(x,y)\n",
    "    list_corr = []\n",
    "    for i in range(0,len_col):\n",
    "        tmp_list = []\n",
    "        for j in range(0, len_col):\n",
    "            tmp_list.append(list_cov_x_y[i][j]/(list_cov_x[i]*list_cov_y[i][j]))\n",
    "        list_corr.append(tmp_list)\n",
    "    #CREATE CORR DATAFRAME\n",
    "    list_corr = pd.DataFrame(list_corr, columns=labels)\n",
    "    labels = pd.Index(labels)\n",
    "    list_corr = list_corr.set_index(labels)\n",
    "    return list_corr"
   ]
  },
  {
   "cell_type": "code",
   "execution_count": 59,
   "metadata": {},
   "outputs": [
    {
     "name": "stdout",
     "output_type": "stream",
     "text": [
      "['PM2.5', 'PM10', 'NO', 'NO2', 'NOx', 'NH3', 'CO', 'SO2', 'O3', 'Benzene', 'Toluene', 'Xylene', 'AQI']\n"
     ]
    },
    {
     "ename": "KeyboardInterrupt",
     "evalue": "",
     "output_type": "error",
     "traceback": [
      "\u001b[1;31m---------------------------------------------------------------------------\u001b[0m",
      "\u001b[1;31mKeyboardInterrupt\u001b[0m                         Traceback (most recent call last)",
      "\u001b[1;32m~\\AppData\\Local\\Temp\\ipykernel_12908\\3979596196.py\u001b[0m in \u001b[0;36m<module>\u001b[1;34m\u001b[0m\n\u001b[1;32m----> 1\u001b[1;33m \u001b[0mcorr_matrix\u001b[0m \u001b[1;33m=\u001b[0m \u001b[0mget_full_corr\u001b[0m\u001b[1;33m(\u001b[0m\u001b[0mdf\u001b[0m\u001b[1;33m)\u001b[0m\u001b[1;33m\u001b[0m\u001b[1;33m\u001b[0m\u001b[0m\n\u001b[0m\u001b[0;32m      2\u001b[0m \u001b[0mplt\u001b[0m\u001b[1;33m.\u001b[0m\u001b[0mfigure\u001b[0m\u001b[1;33m(\u001b[0m\u001b[0mfigsize\u001b[0m\u001b[1;33m=\u001b[0m\u001b[1;33m(\u001b[0m\u001b[1;36m10\u001b[0m\u001b[1;33m,\u001b[0m \u001b[1;36m10\u001b[0m\u001b[1;33m)\u001b[0m\u001b[1;33m)\u001b[0m\u001b[1;33m\u001b[0m\u001b[1;33m\u001b[0m\u001b[0m\n\u001b[0;32m      3\u001b[0m \u001b[0mplt\u001b[0m\u001b[1;33m.\u001b[0m\u001b[0mtitle\u001b[0m\u001b[1;33m(\u001b[0m\u001b[1;34m'Correlation Heatmap of Dataset'\u001b[0m\u001b[1;33m)\u001b[0m\u001b[1;33m\u001b[0m\u001b[1;33m\u001b[0m\u001b[0m\n\u001b[0;32m      4\u001b[0m \u001b[0ma\u001b[0m \u001b[1;33m=\u001b[0m \u001b[0msns\u001b[0m\u001b[1;33m.\u001b[0m\u001b[0mheatmap\u001b[0m\u001b[1;33m(\u001b[0m\u001b[0mcorr_matrix\u001b[0m\u001b[1;33m,\u001b[0m \u001b[0msquare\u001b[0m\u001b[1;33m=\u001b[0m\u001b[1;32mTrue\u001b[0m\u001b[1;33m,\u001b[0m \u001b[0mannot\u001b[0m\u001b[1;33m=\u001b[0m\u001b[1;32mTrue\u001b[0m\u001b[1;33m,\u001b[0m \u001b[0mfmt\u001b[0m\u001b[1;33m=\u001b[0m\u001b[1;34m'.2f'\u001b[0m\u001b[1;33m,\u001b[0m \u001b[0mlinecolor\u001b[0m\u001b[1;33m=\u001b[0m\u001b[1;34m'black'\u001b[0m\u001b[1;33m)\u001b[0m\u001b[1;33m\u001b[0m\u001b[1;33m\u001b[0m\u001b[0m\n\u001b[0;32m      5\u001b[0m \u001b[0ma\u001b[0m\u001b[1;33m.\u001b[0m\u001b[0mset_xticklabels\u001b[0m\u001b[1;33m(\u001b[0m\u001b[0ma\u001b[0m\u001b[1;33m.\u001b[0m\u001b[0mget_xticklabels\u001b[0m\u001b[1;33m(\u001b[0m\u001b[1;33m)\u001b[0m\u001b[1;33m,\u001b[0m \u001b[0mrotation\u001b[0m\u001b[1;33m=\u001b[0m\u001b[1;36m30\u001b[0m\u001b[1;33m)\u001b[0m\u001b[1;33m\u001b[0m\u001b[1;33m\u001b[0m\u001b[0m\n",
      "\u001b[1;32m~\\AppData\\Local\\Temp\\ipykernel_12908\\1718098907.py\u001b[0m in \u001b[0;36mget_full_corr\u001b[1;34m(dataset)\u001b[0m\n\u001b[0;32m     20\u001b[0m             \u001b[0mk_mean\u001b[0m \u001b[1;33m=\u001b[0m \u001b[0mdataset\u001b[0m\u001b[1;33m.\u001b[0m\u001b[0miloc\u001b[0m\u001b[1;33m[\u001b[0m\u001b[1;33m:\u001b[0m\u001b[1;33m,\u001b[0m\u001b[0mk\u001b[0m\u001b[1;33m]\u001b[0m\u001b[1;33m.\u001b[0m\u001b[0mmean\u001b[0m\u001b[1;33m(\u001b[0m\u001b[1;33m)\u001b[0m\u001b[1;33m\u001b[0m\u001b[1;33m\u001b[0m\u001b[0m\n\u001b[0;32m     21\u001b[0m             \u001b[1;32mfor\u001b[0m \u001b[0mj\u001b[0m \u001b[1;32min\u001b[0m \u001b[0mrange\u001b[0m\u001b[1;33m(\u001b[0m\u001b[1;36m0\u001b[0m\u001b[1;33m,\u001b[0m\u001b[0mlen_row\u001b[0m\u001b[1;33m)\u001b[0m\u001b[1;33m:\u001b[0m\u001b[1;33m\u001b[0m\u001b[1;33m\u001b[0m\u001b[0m\n\u001b[1;32m---> 22\u001b[1;33m                 \u001b[0mcov_x_y\u001b[0m \u001b[1;33m+=\u001b[0m \u001b[1;33m(\u001b[0m\u001b[0mdataset\u001b[0m\u001b[1;33m.\u001b[0m\u001b[0miloc\u001b[0m\u001b[1;33m[\u001b[0m\u001b[0mj\u001b[0m\u001b[1;33m,\u001b[0m\u001b[0mi\u001b[0m\u001b[1;33m]\u001b[0m\u001b[1;33m-\u001b[0m\u001b[0mi_mean\u001b[0m\u001b[1;33m)\u001b[0m\u001b[1;33m*\u001b[0m\u001b[1;33m(\u001b[0m\u001b[0mdataset\u001b[0m\u001b[1;33m.\u001b[0m\u001b[0miloc\u001b[0m\u001b[1;33m[\u001b[0m\u001b[0mj\u001b[0m\u001b[1;33m,\u001b[0m\u001b[0mk\u001b[0m\u001b[1;33m]\u001b[0m\u001b[1;33m-\u001b[0m\u001b[0mk_mean\u001b[0m\u001b[1;33m)\u001b[0m\u001b[1;33m\u001b[0m\u001b[1;33m\u001b[0m\u001b[0m\n\u001b[0m\u001b[0;32m     23\u001b[0m             \u001b[0mcov_x_y\u001b[0m \u001b[1;33m/=\u001b[0m \u001b[0mlen_row\u001b[0m\u001b[1;33m\u001b[0m\u001b[1;33m\u001b[0m\u001b[0m\n\u001b[0;32m     24\u001b[0m             \u001b[0mcov_feat\u001b[0m\u001b[1;33m.\u001b[0m\u001b[0mappend\u001b[0m\u001b[1;33m(\u001b[0m\u001b[0mcov_x_y\u001b[0m\u001b[1;33m)\u001b[0m\u001b[1;33m\u001b[0m\u001b[1;33m\u001b[0m\u001b[0m\n",
      "\u001b[1;32mc:\\Users\\phand\\anaconda3\\lib\\site-packages\\pandas\\core\\indexing.py\u001b[0m in \u001b[0;36m__getitem__\u001b[1;34m(self, key)\u001b[0m\n\u001b[0;32m    958\u001b[0m             \u001b[0mkey\u001b[0m \u001b[1;33m=\u001b[0m \u001b[0mtuple\u001b[0m\u001b[1;33m(\u001b[0m\u001b[0mcom\u001b[0m\u001b[1;33m.\u001b[0m\u001b[0mapply_if_callable\u001b[0m\u001b[1;33m(\u001b[0m\u001b[0mx\u001b[0m\u001b[1;33m,\u001b[0m \u001b[0mself\u001b[0m\u001b[1;33m.\u001b[0m\u001b[0mobj\u001b[0m\u001b[1;33m)\u001b[0m \u001b[1;32mfor\u001b[0m \u001b[0mx\u001b[0m \u001b[1;32min\u001b[0m \u001b[0mkey\u001b[0m\u001b[1;33m)\u001b[0m\u001b[1;33m\u001b[0m\u001b[1;33m\u001b[0m\u001b[0m\n\u001b[0;32m    959\u001b[0m             \u001b[1;32mif\u001b[0m \u001b[0mself\u001b[0m\u001b[1;33m.\u001b[0m\u001b[0m_is_scalar_access\u001b[0m\u001b[1;33m(\u001b[0m\u001b[0mkey\u001b[0m\u001b[1;33m)\u001b[0m\u001b[1;33m:\u001b[0m\u001b[1;33m\u001b[0m\u001b[1;33m\u001b[0m\u001b[0m\n\u001b[1;32m--> 960\u001b[1;33m                 \u001b[1;32mreturn\u001b[0m \u001b[0mself\u001b[0m\u001b[1;33m.\u001b[0m\u001b[0mobj\u001b[0m\u001b[1;33m.\u001b[0m\u001b[0m_get_value\u001b[0m\u001b[1;33m(\u001b[0m\u001b[1;33m*\u001b[0m\u001b[0mkey\u001b[0m\u001b[1;33m,\u001b[0m \u001b[0mtakeable\u001b[0m\u001b[1;33m=\u001b[0m\u001b[0mself\u001b[0m\u001b[1;33m.\u001b[0m\u001b[0m_takeable\u001b[0m\u001b[1;33m)\u001b[0m\u001b[1;33m\u001b[0m\u001b[1;33m\u001b[0m\u001b[0m\n\u001b[0m\u001b[0;32m    961\u001b[0m             \u001b[1;32mreturn\u001b[0m \u001b[0mself\u001b[0m\u001b[1;33m.\u001b[0m\u001b[0m_getitem_tuple\u001b[0m\u001b[1;33m(\u001b[0m\u001b[0mkey\u001b[0m\u001b[1;33m)\u001b[0m\u001b[1;33m\u001b[0m\u001b[1;33m\u001b[0m\u001b[0m\n\u001b[0;32m    962\u001b[0m         \u001b[1;32melse\u001b[0m\u001b[1;33m:\u001b[0m\u001b[1;33m\u001b[0m\u001b[1;33m\u001b[0m\u001b[0m\n",
      "\u001b[1;32mc:\\Users\\phand\\anaconda3\\lib\\site-packages\\pandas\\core\\frame.py\u001b[0m in \u001b[0;36m_get_value\u001b[1;34m(self, index, col, takeable)\u001b[0m\n\u001b[0;32m   3610\u001b[0m         \"\"\"\n\u001b[0;32m   3611\u001b[0m         \u001b[1;32mif\u001b[0m \u001b[0mtakeable\u001b[0m\u001b[1;33m:\u001b[0m\u001b[1;33m\u001b[0m\u001b[1;33m\u001b[0m\u001b[0m\n\u001b[1;32m-> 3612\u001b[1;33m             \u001b[0mseries\u001b[0m \u001b[1;33m=\u001b[0m \u001b[0mself\u001b[0m\u001b[1;33m.\u001b[0m\u001b[0m_ixs\u001b[0m\u001b[1;33m(\u001b[0m\u001b[0mcol\u001b[0m\u001b[1;33m,\u001b[0m \u001b[0maxis\u001b[0m\u001b[1;33m=\u001b[0m\u001b[1;36m1\u001b[0m\u001b[1;33m)\u001b[0m\u001b[1;33m\u001b[0m\u001b[1;33m\u001b[0m\u001b[0m\n\u001b[0m\u001b[0;32m   3613\u001b[0m             \u001b[1;32mreturn\u001b[0m \u001b[0mseries\u001b[0m\u001b[1;33m.\u001b[0m\u001b[0m_values\u001b[0m\u001b[1;33m[\u001b[0m\u001b[0mindex\u001b[0m\u001b[1;33m]\u001b[0m\u001b[1;33m\u001b[0m\u001b[1;33m\u001b[0m\u001b[0m\n\u001b[0;32m   3614\u001b[0m \u001b[1;33m\u001b[0m\u001b[0m\n",
      "\u001b[1;32mc:\\Users\\phand\\anaconda3\\lib\\site-packages\\pandas\\core\\frame.py\u001b[0m in \u001b[0;36m_ixs\u001b[1;34m(self, i, axis)\u001b[0m\n\u001b[0;32m   3409\u001b[0m     \u001b[1;31m# Indexing Methods\u001b[0m\u001b[1;33m\u001b[0m\u001b[1;33m\u001b[0m\u001b[0m\n\u001b[0;32m   3410\u001b[0m \u001b[1;33m\u001b[0m\u001b[0m\n\u001b[1;32m-> 3411\u001b[1;33m     \u001b[1;32mdef\u001b[0m \u001b[0m_ixs\u001b[0m\u001b[1;33m(\u001b[0m\u001b[0mself\u001b[0m\u001b[1;33m,\u001b[0m \u001b[0mi\u001b[0m\u001b[1;33m:\u001b[0m \u001b[0mint\u001b[0m\u001b[1;33m,\u001b[0m \u001b[0maxis\u001b[0m\u001b[1;33m:\u001b[0m \u001b[0mint\u001b[0m \u001b[1;33m=\u001b[0m \u001b[1;36m0\u001b[0m\u001b[1;33m)\u001b[0m\u001b[1;33m:\u001b[0m\u001b[1;33m\u001b[0m\u001b[1;33m\u001b[0m\u001b[0m\n\u001b[0m\u001b[0;32m   3412\u001b[0m         \"\"\"\n\u001b[0;32m   3413\u001b[0m         \u001b[0mParameters\u001b[0m\u001b[1;33m\u001b[0m\u001b[1;33m\u001b[0m\u001b[0m\n",
      "\u001b[1;31mKeyboardInterrupt\u001b[0m: "
     ]
    }
   ],
   "source": [
    "corr_matrix = get_full_corr(df)\n",
    "plt.figure(figsize=(10, 10))\n",
    "plt.title('Correlation Heatmap of Dataset')\n",
    "a = sns.heatmap(corr_matrix, square=True, annot=True, fmt='.2f', linecolor='black')\n",
    "a.set_xticklabels(a.get_xticklabels(), rotation=30)\n",
    "a.set_yticklabels(a.get_yticklabels(), rotation=30)           \n",
    "plt.show()"
   ]
  },
  {
   "cell_type": "code",
   "execution_count": null,
   "metadata": {},
   "outputs": [],
   "source": [
    "def get_corr(df): # In ra ma trận hệ số corr với duy nhất cột nhãn của data (>< 6.6s)\n",
    "    # remove object type\n",
    "    drop_col = []\n",
    "    for i in df.columns:\n",
    "        if df[i].dtypes == object:\n",
    "            drop_col.append(i)\n",
    "    df = df.drop(columns = drop_col)\n",
    "\n",
    "    list_cov_x_y = []\n",
    "    len_col = len(df.columns)\n",
    "    len_row = len(df)\n",
    "    labels = list(df.columns)\n",
    "    print(labels)\n",
    "    #COV(x, y)\n",
    "    list_cov_x_y = []\n",
    "    len_col = len(df.columns)\n",
    "    len_row = len(df)\n",
    "    print(len_col, len_row)\n",
    "    y_mean = df.iloc[:,len_col-1].mean()\n",
    "    for i in range(0,len_col):\n",
    "        cov_x_y = 0.0\n",
    "        x_mean = df.iloc[:,i].mean()\n",
    "        for j in range(0,len_row):\n",
    "            cov_x_y += (df.iloc[j,i]-x_mean)*(df.iloc[j,len_col-1]-y_mean)\n",
    "        cov_x_y /= len_row\n",
    "        list_cov_x_y.append(cov_x_y)\n",
    "    #COV(x)\n",
    "    list_cov_x = []\n",
    "    for i in range(0,len_col):\n",
    "        cov_x = 0.0\n",
    "        x_mean = df.iloc[:,i].mean()\n",
    "        for j in range(0,len_row):\n",
    "            cov_x += (df.iloc[j,i]-x_mean)**2\n",
    "        cov_x /= (len_row-1)\n",
    "        list_cov_x.append(cov_x**0.5)\n",
    "    #COV(y)\n",
    "    list_cov_y = []\n",
    "    y_mean = df.iloc[:,len_col-1].mean()\n",
    "    for i in range(0,len_col):\n",
    "        cov_y = 0.0\n",
    "        for j in range(0,len_row):\n",
    "            cov_y += (df.iloc[j,len_col-1]-y_mean)**2\n",
    "        cov_y /= (len_row-1)\n",
    "        list_cov_y.append(cov_y**0.5)\n",
    "    #CORR(x,y)\n",
    "    list_corr = []\n",
    "    for i in range(0,len_col):\n",
    "        list_corr.append(list_cov_x_y[i]/(list_cov_x[i]*list_cov_y[i]))\n",
    "    #CREATE CORR DATAFRAME\n",
    "    list_corr = pd.DataFrame(list_corr, columns=['Y'])\n",
    "    labels = pd.Index(labels)\n",
    "    list_corr = list_corr.set_index(labels)\n",
    "    return list_corr"
   ]
  },
  {
   "cell_type": "code",
   "execution_count": null,
   "metadata": {},
   "outputs": [
    {
     "name": "stdout",
     "output_type": "stream",
     "text": [
      "['PM2.5', 'PM10', 'NO', 'NO2', 'NOx', 'NH3', 'CO', 'SO2', 'O3', 'Benzene', 'Toluene', 'Xylene', 'AQI']\n",
      "13 6236\n"
     ]
    },
    {
     "data": {
      "image/png": "[encoded data removed]",
      "text/plain": [
       "<Figure size 1000x1000 with 2 Axes>"
      ]
     },
     "metadata": {},
     "output_type": "display_data"
    }
   ],
   "source": [
    "corr_matrix = get_corr(df)\n",
    "plt.figure(figsize=(10, 10))\n",
    "plt.title('Correlation Heatmap of Dataset')\n",
    "a = sns.heatmap(corr_matrix, square=True, annot=True, fmt='.2f', linecolor='black')\n",
    "a.set_xticklabels(a.get_xticklabels(), rotation=30)\n",
    "a.set_yticklabels(a.get_yticklabels(), rotation=30)           \n",
    "plt.show()  "
   ]
  },
  {
   "cell_type": "code",
   "execution_count": 61,
   "metadata": {},
   "outputs": [],
   "source": [
    "def train_test_split(features, label_name, test_size, random_state):\n",
    "    shuffle_feature_df = features.sample(frac = 1,random_state=random_state)\n",
    "    test_size = int(test_size*len(features))\n",
    "    X_train = shuffle_feature_df[test_size:]\n",
    "    X_test = shuffle_feature_df[:test_size]\n",
    "    y_train = X_train[label_name]\n",
    "    y_test = X_test[label_name]\n",
    "    X_train = X_train.drop(columns=[label_name])\n",
    "    X_test = X_test.drop(columns=[label_name])\n",
    "    return X_train, X_test, y_train, y_test"
   ]
  },
  {
   "cell_type": "code",
   "execution_count": null,
   "metadata": {},
   "outputs": [],
   "source": [
    "X = df.drop(columns=['City','Date','AQI_Bucket'])"
   ]
  },
  {
   "cell_type": "code",
   "execution_count": 62,
   "metadata": {},
   "outputs": [],
   "source": [
    "X_train, X_test, y_train, y_test = train_test_split(X,'AQI',test_size=0.3,random_state=1)"
   ]
  },
  {
   "cell_type": "code",
   "execution_count": null,
   "metadata": {},
   "outputs": [
    {
     "name": "stdout",
     "output_type": "stream",
     "text": [
      "(312, 12)   (5924, 12)   (6236, 16)\n"
     ]
    }
   ],
   "source": [
    "print(X_train.shape,' ',X_test.shape,' ',df.shape)"
   ]
  },
  {
   "cell_type": "code",
   "execution_count": 64,
   "metadata": {},
   "outputs": [
    {
     "data": {
      "text/html": [
       "<div>\n",
       "<style scoped>\n",
       "    .dataframe tbody tr th:only-of-type {\n",
       "        vertical-align: middle;\n",
       "    }\n",
       "\n",
       "    .dataframe tbody tr th {\n",
       "        vertical-align: top;\n",
       "    }\n",
       "\n",
       "    .dataframe thead th {\n",
       "        text-align: right;\n",
       "    }\n",
       "</style>\n",
       "<table border=\"1\" class=\"dataframe\">\n",
       "  <thead>\n",
       "    <tr style=\"text-align: right;\">\n",
       "      <th></th>\n",
       "      <th>PM2.5</th>\n",
       "      <th>PM10</th>\n",
       "      <th>NO</th>\n",
       "      <th>NO2</th>\n",
       "      <th>NOx</th>\n",
       "      <th>NH3</th>\n",
       "      <th>CO</th>\n",
       "      <th>SO2</th>\n",
       "      <th>O3</th>\n",
       "      <th>Benzene</th>\n",
       "      <th>Toluene</th>\n",
       "      <th>Xylene</th>\n",
       "    </tr>\n",
       "  </thead>\n",
       "  <tbody>\n",
       "    <tr>\n",
       "      <th>15725</th>\n",
       "      <td>54.76</td>\n",
       "      <td>118.20</td>\n",
       "      <td>5.07</td>\n",
       "      <td>46.91</td>\n",
       "      <td>28.90</td>\n",
       "      <td>20.29</td>\n",
       "      <td>0.85</td>\n",
       "      <td>7.37</td>\n",
       "      <td>47.88</td>\n",
       "      <td>1.75</td>\n",
       "      <td>14.68</td>\n",
       "      <td>2.73</td>\n",
       "    </tr>\n",
       "    <tr>\n",
       "      <th>3971</th>\n",
       "      <td>23.62</td>\n",
       "      <td>49.13</td>\n",
       "      <td>12.23</td>\n",
       "      <td>9.02</td>\n",
       "      <td>21.25</td>\n",
       "      <td>10.42</td>\n",
       "      <td>0.76</td>\n",
       "      <td>5.33</td>\n",
       "      <td>10.80</td>\n",
       "      <td>2.93</td>\n",
       "      <td>1.13</td>\n",
       "      <td>2.00</td>\n",
       "    </tr>\n",
       "    <tr>\n",
       "      <th>2673</th>\n",
       "      <td>38.70</td>\n",
       "      <td>82.24</td>\n",
       "      <td>1.45</td>\n",
       "      <td>16.29</td>\n",
       "      <td>9.94</td>\n",
       "      <td>4.22</td>\n",
       "      <td>0.48</td>\n",
       "      <td>15.76</td>\n",
       "      <td>42.04</td>\n",
       "      <td>0.14</td>\n",
       "      <td>1.06</td>\n",
       "      <td>0.11</td>\n",
       "    </tr>\n",
       "    <tr>\n",
       "      <th>15345</th>\n",
       "      <td>64.14</td>\n",
       "      <td>136.36</td>\n",
       "      <td>17.54</td>\n",
       "      <td>52.40</td>\n",
       "      <td>8.17</td>\n",
       "      <td>17.50</td>\n",
       "      <td>0.00</td>\n",
       "      <td>18.17</td>\n",
       "      <td>61.34</td>\n",
       "      <td>0.00</td>\n",
       "      <td>0.03</td>\n",
       "      <td>0.00</td>\n",
       "    </tr>\n",
       "    <tr>\n",
       "      <th>15234</th>\n",
       "      <td>60.17</td>\n",
       "      <td>94.51</td>\n",
       "      <td>21.31</td>\n",
       "      <td>92.33</td>\n",
       "      <td>29.15</td>\n",
       "      <td>26.25</td>\n",
       "      <td>0.59</td>\n",
       "      <td>27.92</td>\n",
       "      <td>25.99</td>\n",
       "      <td>0.17</td>\n",
       "      <td>3.61</td>\n",
       "      <td>4.51</td>\n",
       "    </tr>\n",
       "  </tbody>\n",
       "</table>\n",
       "</div>"
      ],
      "text/plain": [
       "       PM2.5    PM10     NO    NO2    NOx    NH3    CO    SO2     O3  Benzene  \\\n",
       "15725  54.76  118.20   5.07  46.91  28.90  20.29  0.85   7.37  47.88     1.75   \n",
       "3971   23.62   49.13  12.23   9.02  21.25  10.42  0.76   5.33  10.80     2.93   \n",
       "2673   38.70   82.24   1.45  16.29   9.94   4.22  0.48  15.76  42.04     0.14   \n",
       "15345  64.14  136.36  17.54  52.40   8.17  17.50  0.00  18.17  61.34     0.00   \n",
       "15234  60.17   94.51  21.31  92.33  29.15  26.25  0.59  27.92  25.99     0.17   \n",
       "\n",
       "       Toluene  Xylene  \n",
       "15725    14.68    2.73  \n",
       "3971      1.13    2.00  \n",
       "2673      1.06    0.11  \n",
       "15345     0.03    0.00  \n",
       "15234     3.61    4.51  "
      ]
     },
     "execution_count": 64,
     "metadata": {},
     "output_type": "execute_result"
    }
   ],
   "source": [
    "X_train.head()"
   ]
  },
  {
   "attachments": {},
   "cell_type": "markdown",
   "metadata": {},
   "source": [
    "# R2 Score"
   ]
  },
  {
   "cell_type": "code",
   "execution_count": 91,
   "metadata": {},
   "outputs": [],
   "source": [
    "def r2_score(y_test, y_pred):\n",
    "    y_test = y_test.to_numpy()\n",
    "    y_pred = y_pred.reshape(-1)\n",
    "    y_test_avg = np.mean(y_test)\n",
    "    result = 0\n",
    "    n = len(y_test)\n",
    "    numerator = 0\n",
    "    denominator = 0\n",
    "    for i in range(n):\n",
    "        numerator += math.pow((y_test[i] - y_pred[i]), 2)\n",
    "        denominator += math.pow((y_test[i] - y_test_avg), 2)\n",
    "    result = 1 - (numerator / denominator)\n",
    "    return result"
   ]
  },
  {
   "attachments": {},
   "cell_type": "markdown",
   "metadata": {},
   "source": [
    "# Mean Squared Error"
   ]
  },
  {
   "cell_type": "code",
   "execution_count": 92,
   "metadata": {},
   "outputs": [],
   "source": [
    "def mean_squared_error(y_test, y_pred):\n",
    "    y_test = y_test.to_numpy()\n",
    "    y_pred = y_pred.reshape(-1)\n",
    "    result = 0\n",
    "    n = len(y_test)\n",
    "    for i in range(n):\n",
    "        result += math.pow((y_test[i] - y_pred[i]), 2)\n",
    "    result /= n\n",
    "    return result"
   ]
  },
  {
   "attachments": {},
   "cell_type": "markdown",
   "metadata": {},
   "source": [
    "# Decision Tree Regressor"
   ]
  },
  {
   "cell_type": "code",
   "execution_count": 119,
   "metadata": {},
   "outputs": [],
   "source": [
    "class Node:\n",
    "    \n",
    "    def __init__(self, feature=None, threshold=None, left=None, right=None, value=None):\n",
    "        self.feature = feature\n",
    "        self.threshold = threshold\n",
    "        self.left = left\n",
    "        self.right = right\n",
    "        self.value = value\n",
    "    \n",
    "    def is_leaf_node(self):\n",
    "        return self.value is not None"
   ]
  },
  {
   "cell_type": "code",
   "execution_count": 120,
   "metadata": {},
   "outputs": [],
   "source": [
    "# Decision Tree Regressor Class\n",
    "class RegressionTree:\n",
    "    def __init__(self,max_depth = 15,min_samples_split = 10):\n",
    "        self.root = None\n",
    "        self.max_depth = max_depth\n",
    "        self.min_samples_split = min_samples_split\n",
    "    \n",
    "    def fit(self, X, Y):\n",
    "        self.n_feats = X.shape[1]\n",
    "        self.col = list(X.columns)\n",
    "        self.root = self.growTree(X, Y)\n",
    "\n",
    "    def growTree(self, X, Y, depth = 0):\n",
    "        df = X.copy()\n",
    "        df['y'] = Y\n",
    "        ymean = np.mean(Y)\n",
    "        self.mse = self.get_mse(Y, ymean)\n",
    "        n_sample = X.shape[0]\n",
    "        # stopping criteria\n",
    "        if depth >= self.max_depth or n_sample <= self.min_samples_split:\n",
    "            leaf_value = np.mean(Y)\n",
    "            return Node(value=leaf_value)\n",
    "        best_feat, best_thresh = self.best_criteria(X, Y)\n",
    "        left_df, right_df = df[df[best_feat]<=best_thresh].copy(), df[df[best_feat]>best_thresh].copy()\n",
    "        left = self.growTree(left_df.drop('y', axis=1), left_df['y'].values.tolist(), depth+1)\n",
    "        right = self.growTree(right_df.drop('y', axis=1), right_df['y'].values.tolist(), depth+1)\n",
    "        return Node(best_feat, best_thresh, left, right)\n",
    "    \n",
    "    # find out best criteria\n",
    "    def best_criteria(self, X, Y):\n",
    "        df = X.copy()\n",
    "        df['y'] = Y\n",
    "        mse_base = self.mse\n",
    "        best_feature = best_thresh = None\n",
    "        for feat in X.columns:\n",
    "            x_mean = self.moving_average(np.unique(df[feat]), 2)\n",
    "            for value in x_mean:\n",
    "                left_y = df[df[feat] <= value]['y'].values\n",
    "                right_y = df[df[feat] > value]['y'].values\n",
    "                left_mean = right_mean = 0\n",
    "                if len(left_y) > 0:\n",
    "                    left_mean = np.mean(left_y)\n",
    "                if len(right_y) > 0:\n",
    "                    right_mean = np.mean(right_y)\n",
    "                \n",
    "                res_left, res_right = left_y - left_mean, right_y - right_mean\n",
    "                r = np.concatenate((res_left, res_right), axis=None)\n",
    "                n = len(r)\n",
    "                r = np.sum(r**2)\n",
    "                mse_split = r / n\n",
    "                if mse_split < mse_base:\n",
    "                    mse_base = mse_split\n",
    "                    best_feature = feat\n",
    "                    best_thresh = value\n",
    "        return (best_feature, best_thresh)\n",
    "    \n",
    "    def get_mse(self, y_true, y_hat):\n",
    "        n = len(y_true)\n",
    "        r = np.sum((y_true - y_hat)**2)\n",
    "        return r / n\n",
    "    \n",
    "    def moving_average(self, x, window):\n",
    "        return np.convolve(x, np.ones(window), 'valid') / window \n",
    "    \n",
    "    def predict(self, X):\n",
    "        X = X.to_numpy().tolist()\n",
    "        return np.array([self.traverse_tree(x, self.root) for x in X])\n",
    "\n",
    "    def traverse_tree(self, x, node):\n",
    "        if node.value is not None:\n",
    "            return node.value\n",
    "        fr = node.feature\n",
    "        index = self.col.index(fr)\n",
    "        if x[index] <= node.threshold:\n",
    "            return self.traverse_tree(x, node.left)\n",
    "        return self.traverse_tree(x, node.right)"
   ]
  },
  {
   "cell_type": "code",
   "execution_count": 123,
   "metadata": {},
   "outputs": [],
   "source": [
    "regression_tree = RegressionTree(min_samples_split=100, max_depth=5)\n",
    "regression_tree.fit(X_train, y_train) \n",
    "y_pred = regression_tree.predict(X_test)"
   ]
  },
  {
   "cell_type": "code",
   "execution_count": 124,
   "metadata": {},
   "outputs": [
    {
     "name": "stdout",
     "output_type": "stream",
     "text": [
      "MSE:  850.0287680834205\n",
      "r2:  0.9011257409234742\n"
     ]
    }
   ],
   "source": [
    "print('MSE: ',mean_squared_error(y_test, y_pred))\n",
    "print('r2: ', r2_score(y_test, y_pred))"
   ]
  },
  {
   "attachments": {},
   "cell_type": "markdown",
   "metadata": {},
   "source": [
    "# Random Forest"
   ]
  },
  {
   "cell_type": "code",
   "execution_count": 125,
   "metadata": {},
   "outputs": [],
   "source": [
    "class RandomForest:\n",
    "    def __init__(self, trees, n_trees, max_feature, prediction_aggrigation_calculation):\n",
    "        self.n_estimators = n_trees\n",
    "        self.max_features = max_feature\n",
    "        self.tree_feature_indexes = []\n",
    "        self.prediction_aggrigation_calculation = prediction_aggrigation_calculation \n",
    "        self.trees = trees\n",
    "\n",
    "    def _make_random_suset(self, X, y, n_subsets, replasment=True):\n",
    "        subset = []\n",
    "        sample_size = (X.shape[0] if replasment else (X.shape[0] // 2))\n",
    "        \n",
    "        X = X.to_numpy()\n",
    "        y = y.to_numpy()\n",
    "        y = np.reshape(y, (len(y),1))\n",
    "        Xy = np.concatenate((X, y), axis=1)\n",
    "\n",
    "        np.random.shuffle(Xy)\n",
    "        for i in range(n_subsets):\n",
    "            index = np.random.choice(range(sample_size), size=np.shape(range(sample_size)), replace=replasment)\n",
    "            X = Xy[index][:, :-1]\n",
    "            y = Xy[index][: , -1]\n",
    "            subset.append({\"X\" : X, \"y\": y})\n",
    "        return subset\n",
    "\n",
    "    def train(self, X, y):\n",
    "        n_features = X.shape[1]\n",
    "        name_columns = list(X.columns)\n",
    "        \n",
    "        if self.max_features == None:\n",
    "            self.max_features = int(math.sqrt(n_features))\n",
    "\n",
    "        subsets = self._make_random_suset(X, y, self.n_estimators)\n",
    "\n",
    "        for i, subset in enumerate(subsets):\n",
    "            X_subset , y_subset = subset[\"X\"], subset[\"y\"]\n",
    "            idx = np.random.choice(range(n_features), size=self.max_features, replace=False)\n",
    "\n",
    "            self.tree_feature_indexes.append(idx)\n",
    "            X_subset = X_subset[:, idx]\n",
    "            selected_name_columns = []\n",
    "            # print(idx)\n",
    "            for j in range(len(idx)):\n",
    "                selected_name_columns.append(name_columns[idx[j]])\n",
    "            selected_name_columns.append('Y')\n",
    "            y_subset = np.expand_dims(y_subset, axis =1)\n",
    "            Xy_subset = np.concatenate((X_subset, y_subset), axis=1)\n",
    "            Xy_subset = pd.DataFrame(Xy_subset, columns=selected_name_columns)\n",
    "            print(Xy_subset.head())\n",
    "            X_set = Xy_subset.drop(columns=['Y'])\n",
    "            y_set = Xy_subset['Y']\n",
    "            self.trees[i].fit(X_set, y_set)\n",
    "\n",
    "    def predict(self, test_X):\n",
    "        y_preds = np.empty((test_X.shape[0], self.n_estimators))\n",
    "        for i, tree in enumerate(self.trees):\n",
    "            features_index = self.tree_feature_indexes[i]\n",
    "            col_name = list(test_X.columns)\n",
    "            selected_col_name = []\n",
    "            for j in features_index:\n",
    "                selected_col_name.append(col_name[j])\n",
    "            X_selected_features = test_X[selected_col_name]\n",
    "            print(X_selected_features)\n",
    "            y_preds[:, i] = tree.predict(X_selected_features)\n",
    "        y_pred = self.prediction_aggrigation_calculation(y_preds)\n",
    "\n",
    "        return y_pred"
   ]
  },
  {
   "cell_type": "code",
   "execution_count": 126,
   "metadata": {},
   "outputs": [],
   "source": [
    "class RandomForestRegression(RandomForest):\n",
    "    def __init__(self, max_feature, max_depth, n_trees=100, min_sample_split=10):\n",
    "        self.prediction_aggrigation_calculation = self._mean_calculation\n",
    "        self.trees = []\n",
    "        for _ in range(n_trees):\n",
    "            self.trees.append(RegressionTree(min_samples_split=min_sample_split, max_depth=max_depth))\n",
    "\n",
    "        super().__init__(trees=self.trees, n_trees=n_trees,max_feature=max_feature,\n",
    "                         prediction_aggrigation_calculation=self.prediction_aggrigation_calculation)\n",
    "    \n",
    "    def _mean_calculation(self, y_preds):\n",
    "        y_pred = np.empty((y_preds.shape[0], 1))\n",
    "        for i, sample_predictions in enumerate(y_preds):\n",
    "            y_pred[i] = np.mean(sample_predictions)\n",
    "\n",
    "        return y_pred"
   ]
  },
  {
   "cell_type": "code",
   "execution_count": 127,
   "metadata": {},
   "outputs": [
    {
     "name": "stdout",
     "output_type": "stream",
     "text": [
      "     SO2    NH3     O3      Y\n",
      "0   4.83  11.45  19.91   54.0\n",
      "1  15.90  11.10  28.51  304.0\n",
      "2   8.52  62.14  23.62  441.0\n",
      "3  12.93  44.26  38.38  244.0\n",
      "4   7.78  11.57  22.29   65.0\n",
      "         SO2    NH3     O3\n",
      "29397   7.39  12.27  14.34\n",
      "10339  19.38  30.30  74.49\n",
      "11849  21.74  35.74  69.14\n",
      "2695   18.94   4.45  34.87\n",
      "11708  18.07  50.30  34.75\n",
      "...      ...    ...    ...\n",
      "7680    5.88  52.34   9.77\n",
      "15772   6.94  22.13  47.22\n",
      "3321    4.98  62.85  14.08\n",
      "19498   2.49  11.54  24.96\n",
      "11863  10.11  31.36  57.33\n",
      "\n",
      "[1870 rows x 3 columns]\n"
     ]
    }
   ],
   "source": [
    "random_forest_reg = RandomForestRegression(n_trees=1, max_feature=3, min_sample_split=10, max_depth=15)\n",
    "random_forest_reg.train(X_train, y_train) \n",
    "y_pred = random_forest_reg.predict(X_test)"
   ]
  },
  {
   "cell_type": "code",
   "execution_count": 128,
   "metadata": {},
   "outputs": [
    {
     "name": "stdout",
     "output_type": "stream",
     "text": [
      "MSE:  6524.445894231309\n",
      "r2:  0.24108479865743504\n"
     ]
    }
   ],
   "source": [
    "print('MSE: ',mean_squared_error(y_test, y_pred))\n",
    "print('r2: ', r2_score(y_test, y_pred))"
   ]
  },
  {
   "attachments": {},
   "cell_type": "markdown",
   "metadata": {},
   "source": [
    "# Lasso Regression"
   ]
  },
  {
   "cell_type": "code",
   "execution_count": 129,
   "metadata": {},
   "outputs": [],
   "source": [
    "# Lasso Regression\n",
    "class LassoRegression:\n",
    " \n",
    "    def __init__(self, learning_rate, iterations, l1_penalty):\n",
    "        self.learning_rate = learning_rate\n",
    "        self.iterations = iterations\n",
    "        self.l1_penalty = l1_penalty\n",
    " \n",
    "    # Function for model training\n",
    "    def fit(self, X, Y):\n",
    "        # no_of_training_examples, no_of_features\n",
    "        self.m, self.n = X.shape\n",
    "        # weight initialization\n",
    "        self.W = np.zeros(self.n)\n",
    "        self.b = 0\n",
    "        self.X = X\n",
    "        self.Y = Y\n",
    "        # gradient descent learning\n",
    "        for _ in range(self.iterations):\n",
    "            self.update_weights()\n",
    "        return self\n",
    " \n",
    "    # Helper function to update weights in gradient descent\n",
    "    def update_weights(self):\n",
    "        Y_pred = self.predict(self.X)\n",
    "        # calculate gradients\n",
    "        dW = np.zeros(self.n)\n",
    "        for j in range(self.n):\n",
    "            if self.W[j] > 0:\n",
    "                dW[j] = (- (2 * (self.X.iloc[:, j]).dot(self.Y - Y_pred))\n",
    "                         + self.l1_penalty) / self.m\n",
    "            else:\n",
    "                dW[j] = (- (2 * (self.X.iloc[:, j]).dot(self.Y - Y_pred))\n",
    "                         - self.l1_penalty) / self.m\n",
    "        db = - 2 * np.sum(self.Y - Y_pred) / self.m\n",
    "        # update weights\n",
    "        self.W = self.W - self.learning_rate * dW\n",
    "        self.b = self.b - self.learning_rate * db\n",
    "        return self\n",
    " \n",
    "    # Hypothetical function h( x )\n",
    "    def predict(self, X):\n",
    "        return X.dot(self.W) + self.b"
   ]
  },
  {
   "cell_type": "code",
   "execution_count": 133,
   "metadata": {},
   "outputs": [],
   "source": [
    "lasso_regression = LassoRegression(iterations=1, learning_rate=0.1, l1_penalty=500)\n",
    "lasso_regression.fit(X_train, y_train) \n",
    "y_pred = lasso_regression.predict(X_test)"
   ]
  },
  {
   "cell_type": "code",
   "execution_count": 131,
   "metadata": {},
   "outputs": [
    {
     "name": "stdout",
     "output_type": "stream",
     "text": [
      "MSE:  1239329827204.738\n",
      "r2:  -144157259.3390778\n"
     ]
    }
   ],
   "source": [
    "print('MSE: ',mean_squared_error(y_test, y_pred.to_numpy()))\n",
    "print('r2: ', r2_score(y_test, y_pred.to_numpy()))"
   ]
  },
  {
   "cell_type": "markdown",
   "metadata": {},
   "source": []
  },
  {
   "attachments": {},
   "cell_type": "markdown",
   "metadata": {},
   "source": [
    "# Linear Regression"
   ]
  },
  {
   "cell_type": "code",
   "execution_count": 134,
   "metadata": {},
   "outputs": [],
   "source": [
    "class LinearRegression:\n",
    "\n",
    "    def __init__(self, lr = 0.001, n_iters=1000):\n",
    "        self.lr = lr\n",
    "        self.n_iters = n_iters\n",
    "        self.weights = None\n",
    "        self.bias = None\n",
    "\n",
    "    def fit(self, X, y):\n",
    "        n_samples, n_features = X.shape\n",
    "        self.weights = np.zeros(n_features)\n",
    "        self.bias = 0\n",
    "\n",
    "        for i in range(self.n_iters):\n",
    "            y_pred = np.dot(X, self.weights) + self.bias\n",
    "\n",
    "            dw = (1/n_samples) * np.dot(X.T, (y_pred-y))\n",
    "            db = (1/n_samples) * np.sum(y_pred-y)\n",
    "\n",
    "            self.weights = self.weights - self.lr * dw\n",
    "            self.bias = self.bias - self.lr * db\n",
    "\n",
    "    def predict(self, X):\n",
    "        y_pred = np.dot(X, self.weights) + self.bias\n",
    "        return y_pred"
   ]
  },
  {
   "cell_type": "code",
   "execution_count": 135,
   "metadata": {},
   "outputs": [
    {
     "name": "stderr",
     "output_type": "stream",
     "text": [
      "C:\\Users\\phand\\AppData\\Local\\Temp\\ipykernel_12908\\211406492.py:21: RuntimeWarning: invalid value encountered in double_scalars\n",
      "  self.bias = self.bias - self.lr * db\n"
     ]
    }
   ],
   "source": [
    "linear_regression = LinearRegression(lr=0.01)\n",
    "linear_regression.fit(X_train, y_train)\n",
    "y_pred = linear_regression.predict(X_test)"
   ]
  },
  {
   "cell_type": "code",
   "execution_count": 136,
   "metadata": {},
   "outputs": [
    {
     "name": "stdout",
     "output_type": "stream",
     "text": [
      "MSE:  nan\n",
      "r2:  nan\n"
     ]
    }
   ],
   "source": [
    "print('MSE: ',mean_squared_error(y_test, y_pred))\n",
    "print('r2: ', r2_score(y_test, y_pred))"
   ]
  },
  {
   "cell_type": "markdown",
   "metadata": {},
   "source": []
  },
  {
   "attachments": {},
   "cell_type": "markdown",
   "metadata": {},
   "source": [
    "# KNeighbors Regressor"
   ]
  },
  {
   "cell_type": "code",
   "execution_count": 107,
   "metadata": {},
   "outputs": [],
   "source": [
    "class kNN:\n",
    "    def __init__(self, k):\n",
    "        self.k = k\n",
    "\n",
    "    def fit(self, x_train, y_train):\n",
    "        self.x_train = x_train\n",
    "        self.y_train = y_train\n",
    "\n",
    "    def predict(self, x_test):\n",
    "        y_predict = []\n",
    "        for i in range(len(x_test)):\n",
    "            distance = []\n",
    "            for j in range(len(self.x_train)): \n",
    "                d = np.sqrt(np.sum((x_test[i,:] - self.x_train[j,:])**2))\n",
    "                distance.append((d,y_train[j]))\n",
    "            distance = sorted(distance)\n",
    "            neighbour = []\n",
    "            for i in range(self.k):\n",
    "                neighbour.append(distance[i][1])\n",
    "            y_predict.append(np.mean(neighbour))\n",
    "        return y_predict"
   ]
  },
  {
   "cell_type": "code",
   "execution_count": 108,
   "metadata": {},
   "outputs": [
    {
     "ename": "KeyError",
     "evalue": "0",
     "output_type": "error",
     "traceback": [
      "\u001b[1;31m---------------------------------------------------------------------------\u001b[0m",
      "\u001b[1;31mKeyError\u001b[0m                                  Traceback (most recent call last)",
      "\u001b[1;32mc:\\Users\\phand\\anaconda3\\lib\\site-packages\\pandas\\core\\indexes\\base.py\u001b[0m in \u001b[0;36mget_loc\u001b[1;34m(self, key, method, tolerance)\u001b[0m\n\u001b[0;32m   3628\u001b[0m             \u001b[1;32mtry\u001b[0m\u001b[1;33m:\u001b[0m\u001b[1;33m\u001b[0m\u001b[1;33m\u001b[0m\u001b[0m\n\u001b[1;32m-> 3629\u001b[1;33m                 \u001b[1;32mreturn\u001b[0m \u001b[0mself\u001b[0m\u001b[1;33m.\u001b[0m\u001b[0m_engine\u001b[0m\u001b[1;33m.\u001b[0m\u001b[0mget_loc\u001b[0m\u001b[1;33m(\u001b[0m\u001b[0mcasted_key\u001b[0m\u001b[1;33m)\u001b[0m\u001b[1;33m\u001b[0m\u001b[1;33m\u001b[0m\u001b[0m\n\u001b[0m\u001b[0;32m   3630\u001b[0m             \u001b[1;32mexcept\u001b[0m \u001b[0mKeyError\u001b[0m \u001b[1;32mas\u001b[0m \u001b[0merr\u001b[0m\u001b[1;33m:\u001b[0m\u001b[1;33m\u001b[0m\u001b[1;33m\u001b[0m\u001b[0m\n",
      "\u001b[1;32mc:\\Users\\phand\\anaconda3\\lib\\site-packages\\pandas\\_libs\\index.pyx\u001b[0m in \u001b[0;36mpandas._libs.index.IndexEngine.get_loc\u001b[1;34m()\u001b[0m\n",
      "\u001b[1;32mc:\\Users\\phand\\anaconda3\\lib\\site-packages\\pandas\\_libs\\index.pyx\u001b[0m in \u001b[0;36mpandas._libs.index.IndexEngine.get_loc\u001b[1;34m()\u001b[0m\n",
      "\u001b[1;32mpandas\\_libs\\hashtable_class_helper.pxi\u001b[0m in \u001b[0;36mpandas._libs.hashtable.Int64HashTable.get_item\u001b[1;34m()\u001b[0m\n",
      "\u001b[1;32mpandas\\_libs\\hashtable_class_helper.pxi\u001b[0m in \u001b[0;36mpandas._libs.hashtable.Int64HashTable.get_item\u001b[1;34m()\u001b[0m\n",
      "\u001b[1;31mKeyError\u001b[0m: 0",
      "\nThe above exception was the direct cause of the following exception:\n",
      "\u001b[1;31mKeyError\u001b[0m                                  Traceback (most recent call last)",
      "\u001b[1;32m~\\AppData\\Local\\Temp\\ipykernel_12908\\146122825.py\u001b[0m in \u001b[0;36m<module>\u001b[1;34m\u001b[0m\n\u001b[0;32m      1\u001b[0m \u001b[0mknn\u001b[0m \u001b[1;33m=\u001b[0m \u001b[0mkNN\u001b[0m\u001b[1;33m(\u001b[0m\u001b[0mk\u001b[0m\u001b[1;33m=\u001b[0m\u001b[1;36m7\u001b[0m\u001b[1;33m)\u001b[0m\u001b[1;33m\u001b[0m\u001b[1;33m\u001b[0m\u001b[0m\n\u001b[0;32m      2\u001b[0m \u001b[0mknn\u001b[0m\u001b[1;33m.\u001b[0m\u001b[0mfit\u001b[0m\u001b[1;33m(\u001b[0m\u001b[0mX_train\u001b[0m\u001b[1;33m,\u001b[0m \u001b[0my_train\u001b[0m\u001b[1;33m)\u001b[0m\u001b[1;33m\u001b[0m\u001b[1;33m\u001b[0m\u001b[0m\n\u001b[1;32m----> 3\u001b[1;33m \u001b[0my_pred\u001b[0m \u001b[1;33m=\u001b[0m \u001b[0mknn\u001b[0m\u001b[1;33m.\u001b[0m\u001b[0mpredict\u001b[0m\u001b[1;33m(\u001b[0m\u001b[0mX_test\u001b[0m\u001b[1;33m)\u001b[0m\u001b[1;33m\u001b[0m\u001b[1;33m\u001b[0m\u001b[0m\n\u001b[0m",
      "\u001b[1;32m~\\AppData\\Local\\Temp\\ipykernel_12908\\3163965941.py\u001b[0m in \u001b[0;36mpredict\u001b[1;34m(self, x_test)\u001b[0m\n\u001b[0;32m     14\u001b[0m             \u001b[1;32mfor\u001b[0m \u001b[0mj\u001b[0m \u001b[1;32min\u001b[0m \u001b[0mrange\u001b[0m\u001b[1;33m(\u001b[0m\u001b[0mlen\u001b[0m\u001b[1;33m(\u001b[0m\u001b[0mself\u001b[0m\u001b[1;33m.\u001b[0m\u001b[0mx_train\u001b[0m\u001b[1;33m)\u001b[0m\u001b[1;33m)\u001b[0m\u001b[1;33m:\u001b[0m\u001b[1;33m\u001b[0m\u001b[1;33m\u001b[0m\u001b[0m\n\u001b[0;32m     15\u001b[0m                 \u001b[0md\u001b[0m \u001b[1;33m=\u001b[0m \u001b[0mnp\u001b[0m\u001b[1;33m.\u001b[0m\u001b[0msqrt\u001b[0m\u001b[1;33m(\u001b[0m\u001b[0mnp\u001b[0m\u001b[1;33m.\u001b[0m\u001b[0msum\u001b[0m\u001b[1;33m(\u001b[0m\u001b[1;33m(\u001b[0m\u001b[0mx_test\u001b[0m\u001b[1;33m[\u001b[0m\u001b[0mi\u001b[0m\u001b[1;33m,\u001b[0m\u001b[1;33m:\u001b[0m\u001b[1;33m]\u001b[0m \u001b[1;33m-\u001b[0m \u001b[0mself\u001b[0m\u001b[1;33m.\u001b[0m\u001b[0mx_train\u001b[0m\u001b[1;33m[\u001b[0m\u001b[0mj\u001b[0m\u001b[1;33m,\u001b[0m\u001b[1;33m:\u001b[0m\u001b[1;33m]\u001b[0m\u001b[1;33m)\u001b[0m\u001b[1;33m**\u001b[0m\u001b[1;36m2\u001b[0m\u001b[1;33m)\u001b[0m\u001b[1;33m)\u001b[0m\u001b[1;33m\u001b[0m\u001b[1;33m\u001b[0m\u001b[0m\n\u001b[1;32m---> 16\u001b[1;33m                 \u001b[0mdistance\u001b[0m\u001b[1;33m.\u001b[0m\u001b[0mappend\u001b[0m\u001b[1;33m(\u001b[0m\u001b[1;33m(\u001b[0m\u001b[0md\u001b[0m\u001b[1;33m,\u001b[0m\u001b[0my_train\u001b[0m\u001b[1;33m[\u001b[0m\u001b[0mj\u001b[0m\u001b[1;33m]\u001b[0m\u001b[1;33m)\u001b[0m\u001b[1;33m)\u001b[0m\u001b[1;33m\u001b[0m\u001b[1;33m\u001b[0m\u001b[0m\n\u001b[0m\u001b[0;32m     17\u001b[0m             \u001b[0mdistance\u001b[0m \u001b[1;33m=\u001b[0m \u001b[0msorted\u001b[0m\u001b[1;33m(\u001b[0m\u001b[0mdistance\u001b[0m\u001b[1;33m)\u001b[0m\u001b[1;33m\u001b[0m\u001b[1;33m\u001b[0m\u001b[0m\n\u001b[0;32m     18\u001b[0m             \u001b[0mneighbour\u001b[0m \u001b[1;33m=\u001b[0m \u001b[1;33m[\u001b[0m\u001b[1;33m]\u001b[0m\u001b[1;33m\u001b[0m\u001b[1;33m\u001b[0m\u001b[0m\n",
      "\u001b[1;32mc:\\Users\\phand\\anaconda3\\lib\\site-packages\\pandas\\core\\series.py\u001b[0m in \u001b[0;36m__getitem__\u001b[1;34m(self, key)\u001b[0m\n\u001b[0;32m    956\u001b[0m \u001b[1;33m\u001b[0m\u001b[0m\n\u001b[0;32m    957\u001b[0m         \u001b[1;32melif\u001b[0m \u001b[0mkey_is_scalar\u001b[0m\u001b[1;33m:\u001b[0m\u001b[1;33m\u001b[0m\u001b[1;33m\u001b[0m\u001b[0m\n\u001b[1;32m--> 958\u001b[1;33m             \u001b[1;32mreturn\u001b[0m \u001b[0mself\u001b[0m\u001b[1;33m.\u001b[0m\u001b[0m_get_value\u001b[0m\u001b[1;33m(\u001b[0m\u001b[0mkey\u001b[0m\u001b[1;33m)\u001b[0m\u001b[1;33m\u001b[0m\u001b[1;33m\u001b[0m\u001b[0m\n\u001b[0m\u001b[0;32m    959\u001b[0m \u001b[1;33m\u001b[0m\u001b[0m\n\u001b[0;32m    960\u001b[0m         \u001b[1;32mif\u001b[0m \u001b[0mis_hashable\u001b[0m\u001b[1;33m(\u001b[0m\u001b[0mkey\u001b[0m\u001b[1;33m)\u001b[0m\u001b[1;33m:\u001b[0m\u001b[1;33m\u001b[0m\u001b[1;33m\u001b[0m\u001b[0m\n",
      "\u001b[1;32mc:\\Users\\phand\\anaconda3\\lib\\site-packages\\pandas\\core\\series.py\u001b[0m in \u001b[0;36m_get_value\u001b[1;34m(self, label, takeable)\u001b[0m\n\u001b[0;32m   1067\u001b[0m \u001b[1;33m\u001b[0m\u001b[0m\n\u001b[0;32m   1068\u001b[0m         \u001b[1;31m# Similar to Index.get_value, but we do not fall back to positional\u001b[0m\u001b[1;33m\u001b[0m\u001b[1;33m\u001b[0m\u001b[0m\n\u001b[1;32m-> 1069\u001b[1;33m         \u001b[0mloc\u001b[0m \u001b[1;33m=\u001b[0m \u001b[0mself\u001b[0m\u001b[1;33m.\u001b[0m\u001b[0mindex\u001b[0m\u001b[1;33m.\u001b[0m\u001b[0mget_loc\u001b[0m\u001b[1;33m(\u001b[0m\u001b[0mlabel\u001b[0m\u001b[1;33m)\u001b[0m\u001b[1;33m\u001b[0m\u001b[1;33m\u001b[0m\u001b[0m\n\u001b[0m\u001b[0;32m   1070\u001b[0m         \u001b[1;32mreturn\u001b[0m \u001b[0mself\u001b[0m\u001b[1;33m.\u001b[0m\u001b[0mindex\u001b[0m\u001b[1;33m.\u001b[0m\u001b[0m_get_values_for_loc\u001b[0m\u001b[1;33m(\u001b[0m\u001b[0mself\u001b[0m\u001b[1;33m,\u001b[0m \u001b[0mloc\u001b[0m\u001b[1;33m,\u001b[0m \u001b[0mlabel\u001b[0m\u001b[1;33m)\u001b[0m\u001b[1;33m\u001b[0m\u001b[1;33m\u001b[0m\u001b[0m\n\u001b[0;32m   1071\u001b[0m \u001b[1;33m\u001b[0m\u001b[0m\n",
      "\u001b[1;32mc:\\Users\\phand\\anaconda3\\lib\\site-packages\\pandas\\core\\indexes\\base.py\u001b[0m in \u001b[0;36mget_loc\u001b[1;34m(self, key, method, tolerance)\u001b[0m\n\u001b[0;32m   3629\u001b[0m                 \u001b[1;32mreturn\u001b[0m \u001b[0mself\u001b[0m\u001b[1;33m.\u001b[0m\u001b[0m_engine\u001b[0m\u001b[1;33m.\u001b[0m\u001b[0mget_loc\u001b[0m\u001b[1;33m(\u001b[0m\u001b[0mcasted_key\u001b[0m\u001b[1;33m)\u001b[0m\u001b[1;33m\u001b[0m\u001b[1;33m\u001b[0m\u001b[0m\n\u001b[0;32m   3630\u001b[0m             \u001b[1;32mexcept\u001b[0m \u001b[0mKeyError\u001b[0m \u001b[1;32mas\u001b[0m \u001b[0merr\u001b[0m\u001b[1;33m:\u001b[0m\u001b[1;33m\u001b[0m\u001b[1;33m\u001b[0m\u001b[0m\n\u001b[1;32m-> 3631\u001b[1;33m                 \u001b[1;32mraise\u001b[0m \u001b[0mKeyError\u001b[0m\u001b[1;33m(\u001b[0m\u001b[0mkey\u001b[0m\u001b[1;33m)\u001b[0m \u001b[1;32mfrom\u001b[0m \u001b[0merr\u001b[0m\u001b[1;33m\u001b[0m\u001b[1;33m\u001b[0m\u001b[0m\n\u001b[0m\u001b[0;32m   3632\u001b[0m             \u001b[1;32mexcept\u001b[0m \u001b[0mTypeError\u001b[0m\u001b[1;33m:\u001b[0m\u001b[1;33m\u001b[0m\u001b[1;33m\u001b[0m\u001b[0m\n\u001b[0;32m   3633\u001b[0m                 \u001b[1;31m# If we have a listlike key, _check_indexing_error will raise\u001b[0m\u001b[1;33m\u001b[0m\u001b[1;33m\u001b[0m\u001b[0m\n",
      "\u001b[1;31mKeyError\u001b[0m: 0"
     ]
    }
   ],
   "source": [
    "knn = kNN(k=7)\n",
    "knn.fit(X_train, y_train)\n",
    "y_pred = knn.predict(X_test)"
   ]
  },
  {
   "cell_type": "code",
   "execution_count": null,
   "metadata": {},
   "outputs": [],
   "source": [
    "print('MSE: ',mean_squared_error(y_test, y_pred))\n",
    "print('r2: ', r2_score(y_test, y_pred))"
   ]
  },
  {
   "cell_type": "markdown",
   "metadata": {},
   "source": []
  }
 ],
 "metadata": {
  "kernelspec": {
   "display_name": "base",
   "language": "python",
   "name": "python3"
  },
  "language_info": {
   "codemirror_mode": {
    "name": "ipython",
    "version": 3
   },
   "file_extension": ".py",
   "mimetype": "text/x-python",
   "name": "python",
   "nbconvert_exporter": "python",
   "pygments_lexer": "ipython3",
   "version": "3.9.13"
  },
  "vscode": {
   "interpreter": {
    "hash": "5175db2095d701d52086baf327a5b475e843a0ec808788361ba36bc181db60a5"
   }
  }
 },
 "nbformat": 4,
 "nbformat_minor": 0
}
