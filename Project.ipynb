{
 "cells": [
  {
   "cell_type": "code",
   "execution_count": 5,
   "metadata": {
    "collapsed": false
   },
   "outputs": [],
   "source": [
    "import mysql.connector as mysql\n",
    "from mysql.connector import Error\n",
    "import sqlite3\n",
    "import numpy as np\n",
    "import pandas as pd"
   ]
  },
  {
   "cell_type": "markdown",
   "metadata": {
    "collapsed": false
   },
   "source": [
    "### DATA PREPROCESSING"
   ]
  },
  {
   "cell_type": "code",
   "execution_count": 6,
   "metadata": {
    "collapsed": false
   },
   "outputs": [
    {
     "name": "stdout",
     "output_type": "stream",
     "text": [
      "Error Authentication plugin 'caching_sha2_password' is not supported\n"
     ]
    }
   ],
   "source": [
    "# Nhận tất cả dữ liệu thô từ database\n",
    "\n",
    "try:\n",
    "    connection = mysql.connect(host='localhost', database='air_quality', user='root', password='password')\n",
    "    if connection.is_connected():\n",
    "        cursor = connection.cursor()\n",
    "        sql = \"select * from air_quality_raw\"\n",
    "        cursor.execute(sql)\n",
    "        record = cursor.fetchall()\n",
    "        print('Kích thước dữ liệu: ', len(record))\n",
    "        connection.commit()\n",
    "        cursor.close()\n",
    "except Error as e:\n",
    "    print('Error', e)"
   ]
  },
  {
   "cell_type": "code",
   "execution_count": 7,
   "metadata": {
    "collapsed": false
   },
   "outputs": [
    {
     "ename": "NameError",
     "evalue": "name 'record' is not defined",
     "output_type": "error",
     "traceback": [
      "\u001b[1;31m---------------------------------------------------------------------------\u001b[0m",
      "\u001b[1;31mNameError\u001b[0m                                 Traceback (most recent call last)",
      "\u001b[1;32m~\\AppData\\Local\\Temp\\ipykernel_12908\\1073022260.py\u001b[0m in \u001b[0;36m<module>\u001b[1;34m\u001b[0m\n\u001b[0;32m      1\u001b[0m \u001b[1;31m# Chuyển dữ liệu sang dạng DataFrame\u001b[0m\u001b[1;33m\u001b[0m\u001b[1;33m\u001b[0m\u001b[0m\n\u001b[1;32m----> 2\u001b[1;33m df = pd.DataFrame(record, columns=['ID', 'City', 'Date', 'PM2.5', 'PM10', 'NO', 'NO2', 'NOx', 'NH3', 'CO', 'SO2', 'O3',\n\u001b[0m\u001b[0;32m      3\u001b[0m                                    'Benzene', 'Toluene', 'Xylene', 'AQI', 'AQI_Bucket'])\n\u001b[0;32m      4\u001b[0m \u001b[1;31m# df = pd.read_csv('IOT/city_day.csv')\u001b[0m\u001b[1;33m\u001b[0m\u001b[1;33m\u001b[0m\u001b[0m\n\u001b[0;32m      5\u001b[0m \u001b[0mdf\u001b[0m \u001b[1;33m=\u001b[0m \u001b[0mdf\u001b[0m\u001b[1;33m.\u001b[0m\u001b[0mdrop\u001b[0m\u001b[1;33m(\u001b[0m\u001b[0mcolumns\u001b[0m\u001b[1;33m=\u001b[0m\u001b[1;33m[\u001b[0m\u001b[1;34m'ID'\u001b[0m\u001b[1;33m]\u001b[0m\u001b[1;33m)\u001b[0m\u001b[1;33m\u001b[0m\u001b[1;33m\u001b[0m\u001b[0m\n",
      "\u001b[1;31mNameError\u001b[0m: name 'record' is not defined"
     ]
    }
   ],
   "source": [
    "# Chuyển dữ liệu sang dạng DataFrame\n",
    "df = pd.DataFrame(record, columns=['ID', 'City', 'Date', 'PM2.5', 'PM10', 'NO', 'NO2', 'NOx', 'NH3', 'CO', 'SO2', 'O3',\n",
    "                                   'Benzene', 'Toluene', 'Xylene', 'AQI', 'AQI_Bucket'])\n",
    "# df = pd.read_csv('IOT/city_day.csv')\n",
    "df = df.drop(columns=['ID'])"
   ]
  },
  {
   "cell_type": "code",
   "execution_count": null,
   "metadata": {
    "collapsed": false
   },
   "outputs": [
    {
     "data": {
      "text/html": [
       "<div>\n",
       "<style scoped>\n",
       "    .dataframe tbody tr th:only-of-type {\n",
       "        vertical-align: middle;\n",
       "    }\n",
       "\n",
       "    .dataframe tbody tr th {\n",
       "        vertical-align: top;\n",
       "    }\n",
       "\n",
       "    .dataframe thead th {\n",
       "        text-align: right;\n",
       "    }\n",
       "</style>\n",
       "<table border=\"1\" class=\"dataframe\">\n",
       "  <thead>\n",
       "    <tr style=\"text-align: right;\">\n",
       "      <th></th>\n",
       "      <th>PM2.5</th>\n",
       "      <th>PM10</th>\n",
       "      <th>NO</th>\n",
       "      <th>NO2</th>\n",
       "      <th>NOx</th>\n",
       "      <th>NH3</th>\n",
       "      <th>CO</th>\n",
       "      <th>O3</th>\n",
       "      <th>Toluene</th>\n",
       "      <th>AQI</th>\n",
       "    </tr>\n",
       "  </thead>\n",
       "  <tbody>\n",
       "    <tr>\n",
       "      <th>0</th>\n",
       "      <td>NaN</td>\n",
       "      <td>NaN</td>\n",
       "      <td>0.92</td>\n",
       "      <td>18.22</td>\n",
       "      <td>17.15</td>\n",
       "      <td>NaN</td>\n",
       "      <td>0.92</td>\n",
       "      <td>133.36</td>\n",
       "      <td>0.02</td>\n",
       "      <td>NaN</td>\n",
       "    </tr>\n",
       "    <tr>\n",
       "      <th>1</th>\n",
       "      <td>NaN</td>\n",
       "      <td>NaN</td>\n",
       "      <td>0.97</td>\n",
       "      <td>15.69</td>\n",
       "      <td>16.46</td>\n",
       "      <td>NaN</td>\n",
       "      <td>0.97</td>\n",
       "      <td>34.06</td>\n",
       "      <td>5.50</td>\n",
       "      <td>NaN</td>\n",
       "    </tr>\n",
       "    <tr>\n",
       "      <th>2</th>\n",
       "      <td>NaN</td>\n",
       "      <td>NaN</td>\n",
       "      <td>17.40</td>\n",
       "      <td>19.30</td>\n",
       "      <td>29.70</td>\n",
       "      <td>NaN</td>\n",
       "      <td>17.40</td>\n",
       "      <td>30.70</td>\n",
       "      <td>16.40</td>\n",
       "      <td>NaN</td>\n",
       "    </tr>\n",
       "    <tr>\n",
       "      <th>3</th>\n",
       "      <td>NaN</td>\n",
       "      <td>NaN</td>\n",
       "      <td>1.70</td>\n",
       "      <td>18.48</td>\n",
       "      <td>17.97</td>\n",
       "      <td>NaN</td>\n",
       "      <td>1.70</td>\n",
       "      <td>36.08</td>\n",
       "      <td>10.14</td>\n",
       "      <td>NaN</td>\n",
       "    </tr>\n",
       "    <tr>\n",
       "      <th>4</th>\n",
       "      <td>NaN</td>\n",
       "      <td>NaN</td>\n",
       "      <td>22.10</td>\n",
       "      <td>21.42</td>\n",
       "      <td>37.76</td>\n",
       "      <td>NaN</td>\n",
       "      <td>22.10</td>\n",
       "      <td>39.31</td>\n",
       "      <td>18.89</td>\n",
       "      <td>NaN</td>\n",
       "    </tr>\n",
       "  </tbody>\n",
       "</table>\n",
       "</div>"
      ],
      "text/plain": [
       "   PM2.5  PM10     NO    NO2    NOx  NH3     CO      O3  Toluene  AQI\n",
       "0    NaN   NaN   0.92  18.22  17.15  NaN   0.92  133.36     0.02  NaN\n",
       "1    NaN   NaN   0.97  15.69  16.46  NaN   0.97   34.06     5.50  NaN\n",
       "2    NaN   NaN  17.40  19.30  29.70  NaN  17.40   30.70    16.40  NaN\n",
       "3    NaN   NaN   1.70  18.48  17.97  NaN   1.70   36.08    10.14  NaN\n",
       "4    NaN   NaN  22.10  21.42  37.76  NaN  22.10   39.31    18.89  NaN"
      ]
     },
     "execution_count": 6,
     "metadata": {},
     "output_type": "execute_result"
    }
   ],
   "source": [
    "'''\n",
    "Loại bỏ 3 thuộc tính có chỉ số corr thấp nhất Xylene(0.07), Benzene(0.21), SO2(0.25) và các dữ liệu không phải dạng số\n",
    "'''\n",
    "df = df.drop(columns=['City', 'Date', 'AQI_Bucket', 'Xylene', 'Benzene', 'SO2'])\n",
    "df.head()"
   ]
  },
  {
   "cell_type": "code",
   "execution_count": null,
   "metadata": {
    "collapsed": false
   },
   "outputs": [
    {
     "data": {
      "text/plain": [
       "(10960, 10)"
      ]
     },
     "execution_count": 8,
     "metadata": {},
     "output_type": "execute_result"
    }
   ],
   "source": [
    "# Bỏ các giá trị trống\n",
    "df = df.dropna()\n",
    "df.shape"
   ]
  },
  {
   "cell_type": "markdown",
   "metadata": {
    "collapsed": false
   },
   "source": [
    "### DATABASE CONNECTION"
   ]
  },
  {
   "cell_type": "code",
   "execution_count": null,
   "metadata": {
    "collapsed": false
   },
   "outputs": [
    {
     "name": "stdout",
     "output_type": "stream",
     "text": [
      "New table was created\n"
     ]
    }
   ],
   "source": [
    "# Tạo database cho dữ liệu sau khi xử lý\n",
    "try:\n",
    "    connection = mysql.connect(host='localhost', database='air_quality', user='root', password='cuong#Super2001')\n",
    "    if connection.is_connected():\n",
    "        cursor = connection.cursor()\n",
    "        cursor.execute(\n",
    "            'CREATE TABLE if not exists preprocessed_air_quality (ID int NOT NULL AUTO_INCREMENT PRIMARY KEY,`PM2.5` double,`PM10` double,`NO` double,`NO2` double,NOx double,`NH3` double,`CO` double,O3 double,Toluene double,AQI double)')\n",
    "        print('New table was created')\n",
    "        connection.commit()\n",
    "        cursor.close()\n",
    "except Error as e:\n",
    "    print('Error', e)"
   ]
  },
  {
   "cell_type": "code",
   "execution_count": null,
   "metadata": {
    "collapsed": false
   },
   "outputs": [],
   "source": [
    "# Import records of corr_matrix into database\n",
    "try:\n",
    "    connection = mysql.connect(host='localhost', database='air_quality', user='root', password='cuong#Super2001')\n",
    "    if connection.is_connected():\n",
    "        cursor = connection.cursor()\n",
    "        for i, row in df.iterrows():\n",
    "            sql = \"INSERT INTO preprocessed_air_quality(`PM2.5`,`PM10`,`NO`,`NO2`,NOx,`NH3`,`CO`,O3,Toluene,AQI) VALUES (%s,%s,%s,%s,%s,%s,%s,%s,%s,%s)\"\n",
    "            cursor.execute(sql, tuple(row))\n",
    "            # print('Inserted record')\n",
    "        connection.commit()\n",
    "        cursor.close()\n",
    "except Error as e:\n",
    "    print('Error', e)"
   ]
  },
  {
   "cell_type": "code",
   "execution_count": null,
   "metadata": {
    "collapsed": false
   },
   "outputs": [
    {
     "name": "stdout",
     "output_type": "stream",
     "text": [
      "Table was dropped\n"
     ]
    }
   ],
   "source": [
    "# Nếu đã tồn tại, có thể xóa để tạo một database khác\n",
    "\n",
    "# try:\n",
    "#     connection = mysql.connect(host='localhost', database='air_quality', user='root', password='cuong#Super2001')\n",
    "#     if connection.is_connected():\n",
    "#         cursor = connection.cursor()\n",
    "#         tbl_name = \"preprocessed_air_quality\"\n",
    "#         sql = \"drop table if exists \" + tbl_name\n",
    "#         cursor.execute(sql)\n",
    "#         print('Table was dropped')\n",
    "#         connection.commit()\n",
    "#         cursor.close()\n",
    "# except Error as e:\n",
    "#     print('Error', e)\n"
   ]
  },
  {
   "attachments": {},
   "cell_type": "markdown",
   "metadata": {},
   "source": [
    "# Corr"
   ]
  },
  {
   "cell_type": "code",
   "execution_count": 8,
   "metadata": {},
   "outputs": [],
   "source": [
    "import numpy as np\n",
    "import pandas as pd\n",
    "import matplotlib.pyplot as plt\n",
    "import seaborn as sns"
   ]
  },
  {
   "cell_type": "code",
   "execution_count": null,
   "metadata": {},
   "outputs": [],
   "source": [
    "df = pd.read_csv('city_day.csv')\n",
    "df = df.dropna()\n",
    "df.shape"
   ]
  },
  {
   "cell_type": "code",
   "execution_count": null,
   "metadata": {},
   "outputs": [],
   "source": [
    "def get_full_corr(dataset): # In ra ma trận hệ số corr với tất cả các hàng cột của data (>< 1m10s)\n",
    "    # remove object type\n",
    "    drop_col = []\n",
    "    for i in dataset.columns:\n",
    "        if dataset[i].dtypes == object:\n",
    "            drop_col.append(i)\n",
    "    dataset = dataset.drop(columns = drop_col)\n",
    "\n",
    "    list_cov_x_y = []\n",
    "    len_col = len(dataset.columns)\n",
    "    len_row = len(dataset)\n",
    "    labels = list(dataset.columns)\n",
    "    print(labels)\n",
    "    #COV(x, y)\n",
    "    for i in range(0,len_col):\n",
    "        cov_feat = []\n",
    "        i_mean = dataset.iloc[:,i].mean()\n",
    "        for k in range(0, len_col):\n",
    "            cov_x_y = 0.0\n",
    "            k_mean = dataset.iloc[:,k].mean()\n",
    "            for j in range(0,len_row):\n",
    "                cov_x_y += (dataset.iloc[j,i]-i_mean)*(dataset.iloc[j,k]-k_mean)\n",
    "            cov_x_y /= len_row\n",
    "            cov_feat.append(cov_x_y)\n",
    "        list_cov_x_y.append(cov_feat)\n",
    "    print(len(list_cov_x_y))\n",
    "    #COV(x)\n",
    "    list_cov_x = []\n",
    "    for i in range(0,len_col):\n",
    "        i_mean = dataset.iloc[:,i].mean()\n",
    "        cov_x = 0.0\n",
    "        for j in range(0,len_row):\n",
    "            cov_x += (dataset.iloc[j,i]-i_mean)**2\n",
    "        cov_x /= (len_row-1)\n",
    "        list_cov_x.append(cov_x**0.5)\n",
    "    #COV(y)\n",
    "    list_cov_y = []\n",
    "    for i in range(0,len_col):\n",
    "        cov_y_feat = []\n",
    "        for k in range(0, len_col):\n",
    "            cov_y = 0.0\n",
    "            k_mean = dataset.iloc[:,k].mean()\n",
    "            for j in range(0,len_row):\n",
    "                cov_y += (dataset.iloc[j,k]-k_mean)**2\n",
    "            cov_y /= (len_row-1)\n",
    "            cov_y_feat.append(cov_y**0.5)\n",
    "        list_cov_y.append(cov_y_feat)\n",
    "    #CORR(x,y)\n",
    "    list_corr = []\n",
    "    for i in range(0,len_col):\n",
    "        tmp_list = []\n",
    "        for j in range(0, len_col):\n",
    "            tmp_list.append(list_cov_x_y[i][j]/(list_cov_x[i]*list_cov_y[i][j]))\n",
    "        list_corr.append(tmp_list)\n",
    "    #CREATE CORR DATAFRAME\n",
    "    list_corr = pd.DataFrame(list_corr, columns=labels)\n",
    "    labels = pd.Index(labels)\n",
    "    list_corr = list_corr.set_index(labels)\n",
    "    return list_corr"
   ]
  },
  {
   "cell_type": "code",
   "execution_count": null,
   "metadata": {},
   "outputs": [],
   "source": [
    "corr_matrix = get_full_corr(df)\n",
    "plt.figure(figsize=(10, 10))\n",
    "plt.title('Correlation Heatmap of Dataset')\n",
    "a = sns.heatmap(corr_matrix, square=True, annot=True, fmt='.2f', linecolor='black')\n",
    "a.set_xticklabels(a.get_xticklabels(), rotation=30)\n",
    "a.set_yticklabels(a.get_yticklabels(), rotation=30)           \n",
    "plt.show()  "
   ]
  },
  {
   "cell_type": "code",
   "execution_count": null,
   "metadata": {},
   "outputs": [],
   "source": [
    "def get_corr(df): # In ra ma trận hệ số corr với duy nhất cột nhãn của data (>< 6.6s)\n",
    "    # remove object type\n",
    "    drop_col = []\n",
    "    for i in df.columns:\n",
    "        if df[i].dtypes == object:\n",
    "            drop_col.append(i)\n",
    "    df = df.drop(columns = drop_col)\n",
    "\n",
    "    list_cov_x_y = []\n",
    "    len_col = len(df.columns)\n",
    "    len_row = len(df)\n",
    "    labels = list(df.columns)\n",
    "    print(labels)\n",
    "    #COV(x, y)\n",
    "    list_cov_x_y = []\n",
    "    len_col = len(df.columns)\n",
    "    len_row = len(df)\n",
    "    print(len_col, len_row)\n",
    "    y_mean = df.iloc[:,len_col-1].mean()\n",
    "    for i in range(0,len_col):\n",
    "        cov_x_y = 0.0\n",
    "        x_mean = df.iloc[:,i].mean()\n",
    "        for j in range(0,len_row):\n",
    "            cov_x_y += (df.iloc[j,i]-x_mean)*(df.iloc[j,len_col-1]-y_mean)\n",
    "        cov_x_y /= len_row\n",
    "        list_cov_x_y.append(cov_x_y)\n",
    "    #COV(x)\n",
    "    list_cov_x = []\n",
    "    for i in range(0,len_col):\n",
    "        cov_x = 0.0\n",
    "        x_mean = df.iloc[:,i].mean()\n",
    "        for j in range(0,len_row):\n",
    "            cov_x += (df.iloc[j,i]-x_mean)**2\n",
    "        cov_x /= (len_row-1)\n",
    "        list_cov_x.append(cov_x**0.5)\n",
    "    #COV(y)\n",
    "    list_cov_y = []\n",
    "    y_mean = df.iloc[:,len_col-1].mean()\n",
    "    for i in range(0,len_col):\n",
    "        cov_y = 0.0\n",
    "        for j in range(0,len_row):\n",
    "            cov_y += (df.iloc[j,len_col-1]-y_mean)**2\n",
    "        cov_y /= (len_row-1)\n",
    "        list_cov_y.append(cov_y**0.5)\n",
    "    #CORR(x,y)\n",
    "    list_corr = []\n",
    "    for i in range(0,len_col):\n",
    "        list_corr.append(list_cov_x_y[i]/(list_cov_x[i]*list_cov_y[i]))\n",
    "    #CREATE CORR DATAFRAME\n",
    "    list_corr = pd.DataFrame(list_corr, columns=['Y'])\n",
    "    labels = pd.Index(labels)\n",
    "    list_corr = list_corr.set_index(labels)\n",
    "    return list_corr"
   ]
  },
  {
   "cell_type": "code",
   "execution_count": null,
   "metadata": {},
   "outputs": [],
   "source": [
    "corr_matrix = get_corr(df)\n",
    "plt.figure(figsize=(10, 10))\n",
    "plt.title('Correlation Heatmap of Dataset')\n",
    "a = sns.heatmap(corr_matrix, square=True, annot=True, fmt='.2f', linecolor='black')\n",
    "a.set_xticklabels(a.get_xticklabels(), rotation=30)\n",
    "a.set_yticklabels(a.get_yticklabels(), rotation=30)           \n",
    "plt.show()  "
   ]
  },
  {
   "cell_type": "code",
   "execution_count": null,
   "metadata": {},
   "outputs": [],
   "source": [
    "def train_test_split(features, label_name, test_size, random_state):\n",
    "    shuffle_feature_df = features.sample(frac = 1,random_state=random_state)\n",
    "    test_size = int(test_size*len(features))\n",
    "    X_train = shuffle_feature_df[test_size:]\n",
    "    X_test = shuffle_feature_df[:test_size]\n",
    "    y_train = X_train[label_name]\n",
    "    y_test = X_test[label_name]\n",
    "    X_train = X_train.drop(columns=[label_name])\n",
    "    X_test = X_test.drop(columns=[label_name])\n",
    "    return X_train, X_test, y_train, y_test"
   ]
  },
  {
   "cell_type": "code",
   "execution_count": null,
   "metadata": {},
   "outputs": [],
   "source": [
    "X = df.drop(columns=['City','Date','AQI_Bucket'])"
   ]
  },
  {
   "cell_type": "code",
   "execution_count": null,
   "metadata": {},
   "outputs": [],
   "source": [
    "X_train, X_test, y_train, y_test = train_test_split(X,'AQI',test_size=0.95,random_state=1)"
   ]
  },
  {
   "cell_type": "code",
   "execution_count": null,
   "metadata": {},
   "outputs": [],
   "source": [
    "print(X_train.shape,' ',X_test.shape,' ',df.shape)"
   ]
  },
  {
   "cell_type": "code",
   "execution_count": null,
   "metadata": {},
   "outputs": [],
   "source": [
    "X_train.head()"
   ]
  },
  {
   "attachments": {},
   "cell_type": "markdown",
   "metadata": {},
   "source": [
    "# Decision Tree Regressor"
   ]
  },
  {
   "attachments": {},
   "cell_type": "markdown",
   "metadata": {},
   "source": [
    "# Random Forest"
   ]
  },
  {
   "cell_type": "code",
   "execution_count": null,
   "metadata": {},
   "outputs": [],
   "source": []
  },
  {
   "attachments": {},
   "cell_type": "markdown",
   "metadata": {},
   "source": [
    "# Lasso Regression"
   ]
  },
  {
   "cell_type": "markdown",
   "metadata": {},
   "source": []
  },
  {
   "attachments": {},
   "cell_type": "markdown",
   "metadata": {},
   "source": [
    "# Linear Regression"
   ]
  },
  {
   "cell_type": "markdown",
   "metadata": {},
   "source": []
  },
  {
   "attachments": {},
   "cell_type": "markdown",
   "metadata": {},
   "source": [
    "# KNeighbors Regressor"
   ]
  },
  {
   "cell_type": "markdown",
   "metadata": {},
   "source": []
  }
 ],
 "metadata": {
  "kernelspec": {
   "display_name": "base",
   "language": "python",
   "name": "python3"
  },
  "language_info": {
   "codemirror_mode": {
    "name": "ipython",
    "version": 3
   },
   "file_extension": ".py",
   "mimetype": "text/x-python",
   "name": "python",
   "nbconvert_exporter": "python",
   "pygments_lexer": "ipython3",
   "version": "3.9.13"
  },
  "vscode": {
   "interpreter": {
    "hash": "5175db2095d701d52086baf327a5b475e843a0ec808788361ba36bc181db60a5"
   }
  }
 },
 "nbformat": 4,
 "nbformat_minor": 0
}
