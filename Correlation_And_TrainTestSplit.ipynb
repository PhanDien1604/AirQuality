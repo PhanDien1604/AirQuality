{
 "cells": [
  {
   "cell_type": "code",
   "execution_count": 1,
   "metadata": {},
   "outputs": [],
   "source": [
    "import numpy as np\n",
    "import pandas as pd\n",
    "import matplotlib.pyplot as plt\n",
    "import seaborn as sns"
   ]
  },
  {
   "cell_type": "code",
   "execution_count": 114,
   "metadata": {},
   "outputs": [],
   "source": [
    "df = pd.read_table('IOT\\diabetes.tab.txt')"
   ]
  },
  {
   "cell_type": "code",
   "execution_count": 115,
   "metadata": {},
   "outputs": [
    {
     "data": {
      "text/html": [
       "<div>\n",
       "<style scoped>\n",
       "    .dataframe tbody tr th:only-of-type {\n",
       "        vertical-align: middle;\n",
       "    }\n",
       "\n",
       "    .dataframe tbody tr th {\n",
       "        vertical-align: top;\n",
       "    }\n",
       "\n",
       "    .dataframe thead th {\n",
       "        text-align: right;\n",
       "    }\n",
       "</style>\n",
       "<table border=\"1\" class=\"dataframe\">\n",
       "  <thead>\n",
       "    <tr style=\"text-align: right;\">\n",
       "      <th></th>\n",
       "      <th>AGE</th>\n",
       "      <th>SEX</th>\n",
       "      <th>BMI</th>\n",
       "      <th>BP</th>\n",
       "      <th>S1</th>\n",
       "      <th>S2</th>\n",
       "      <th>S3</th>\n",
       "      <th>S4</th>\n",
       "      <th>S5</th>\n",
       "      <th>S6</th>\n",
       "      <th>Y</th>\n",
       "    </tr>\n",
       "  </thead>\n",
       "  <tbody>\n",
       "    <tr>\n",
       "      <th>0</th>\n",
       "      <td>59</td>\n",
       "      <td>2</td>\n",
       "      <td>32.1</td>\n",
       "      <td>101.0</td>\n",
       "      <td>157</td>\n",
       "      <td>93.2</td>\n",
       "      <td>38.0</td>\n",
       "      <td>4.00</td>\n",
       "      <td>4.8598</td>\n",
       "      <td>87</td>\n",
       "      <td>151</td>\n",
       "    </tr>\n",
       "    <tr>\n",
       "      <th>1</th>\n",
       "      <td>48</td>\n",
       "      <td>1</td>\n",
       "      <td>21.6</td>\n",
       "      <td>87.0</td>\n",
       "      <td>183</td>\n",
       "      <td>103.2</td>\n",
       "      <td>70.0</td>\n",
       "      <td>3.00</td>\n",
       "      <td>3.8918</td>\n",
       "      <td>69</td>\n",
       "      <td>75</td>\n",
       "    </tr>\n",
       "    <tr>\n",
       "      <th>2</th>\n",
       "      <td>72</td>\n",
       "      <td>2</td>\n",
       "      <td>30.5</td>\n",
       "      <td>93.0</td>\n",
       "      <td>156</td>\n",
       "      <td>93.6</td>\n",
       "      <td>41.0</td>\n",
       "      <td>4.00</td>\n",
       "      <td>4.6728</td>\n",
       "      <td>85</td>\n",
       "      <td>141</td>\n",
       "    </tr>\n",
       "    <tr>\n",
       "      <th>3</th>\n",
       "      <td>24</td>\n",
       "      <td>1</td>\n",
       "      <td>25.3</td>\n",
       "      <td>84.0</td>\n",
       "      <td>198</td>\n",
       "      <td>131.4</td>\n",
       "      <td>40.0</td>\n",
       "      <td>5.00</td>\n",
       "      <td>4.8903</td>\n",
       "      <td>89</td>\n",
       "      <td>206</td>\n",
       "    </tr>\n",
       "    <tr>\n",
       "      <th>4</th>\n",
       "      <td>50</td>\n",
       "      <td>1</td>\n",
       "      <td>23.0</td>\n",
       "      <td>101.0</td>\n",
       "      <td>192</td>\n",
       "      <td>125.4</td>\n",
       "      <td>52.0</td>\n",
       "      <td>4.00</td>\n",
       "      <td>4.2905</td>\n",
       "      <td>80</td>\n",
       "      <td>135</td>\n",
       "    </tr>\n",
       "    <tr>\n",
       "      <th>5</th>\n",
       "      <td>23</td>\n",
       "      <td>1</td>\n",
       "      <td>22.6</td>\n",
       "      <td>89.0</td>\n",
       "      <td>139</td>\n",
       "      <td>64.8</td>\n",
       "      <td>61.0</td>\n",
       "      <td>2.00</td>\n",
       "      <td>4.1897</td>\n",
       "      <td>68</td>\n",
       "      <td>97</td>\n",
       "    </tr>\n",
       "    <tr>\n",
       "      <th>6</th>\n",
       "      <td>36</td>\n",
       "      <td>2</td>\n",
       "      <td>22.0</td>\n",
       "      <td>90.0</td>\n",
       "      <td>160</td>\n",
       "      <td>99.6</td>\n",
       "      <td>50.0</td>\n",
       "      <td>3.00</td>\n",
       "      <td>3.9512</td>\n",
       "      <td>82</td>\n",
       "      <td>138</td>\n",
       "    </tr>\n",
       "    <tr>\n",
       "      <th>7</th>\n",
       "      <td>66</td>\n",
       "      <td>2</td>\n",
       "      <td>26.2</td>\n",
       "      <td>114.0</td>\n",
       "      <td>255</td>\n",
       "      <td>185.0</td>\n",
       "      <td>56.0</td>\n",
       "      <td>4.55</td>\n",
       "      <td>4.2485</td>\n",
       "      <td>92</td>\n",
       "      <td>63</td>\n",
       "    </tr>\n",
       "    <tr>\n",
       "      <th>8</th>\n",
       "      <td>60</td>\n",
       "      <td>2</td>\n",
       "      <td>32.1</td>\n",
       "      <td>83.0</td>\n",
       "      <td>179</td>\n",
       "      <td>119.4</td>\n",
       "      <td>42.0</td>\n",
       "      <td>4.00</td>\n",
       "      <td>4.4773</td>\n",
       "      <td>94</td>\n",
       "      <td>110</td>\n",
       "    </tr>\n",
       "    <tr>\n",
       "      <th>9</th>\n",
       "      <td>29</td>\n",
       "      <td>1</td>\n",
       "      <td>30.0</td>\n",
       "      <td>85.0</td>\n",
       "      <td>180</td>\n",
       "      <td>93.4</td>\n",
       "      <td>43.0</td>\n",
       "      <td>4.00</td>\n",
       "      <td>5.3845</td>\n",
       "      <td>88</td>\n",
       "      <td>310</td>\n",
       "    </tr>\n",
       "  </tbody>\n",
       "</table>\n",
       "</div>"
      ],
      "text/plain": [
       "   AGE  SEX   BMI     BP   S1     S2    S3    S4      S5  S6    Y\n",
       "0   59    2  32.1  101.0  157   93.2  38.0  4.00  4.8598  87  151\n",
       "1   48    1  21.6   87.0  183  103.2  70.0  3.00  3.8918  69   75\n",
       "2   72    2  30.5   93.0  156   93.6  41.0  4.00  4.6728  85  141\n",
       "3   24    1  25.3   84.0  198  131.4  40.0  5.00  4.8903  89  206\n",
       "4   50    1  23.0  101.0  192  125.4  52.0  4.00  4.2905  80  135\n",
       "5   23    1  22.6   89.0  139   64.8  61.0  2.00  4.1897  68   97\n",
       "6   36    2  22.0   90.0  160   99.6  50.0  3.00  3.9512  82  138\n",
       "7   66    2  26.2  114.0  255  185.0  56.0  4.55  4.2485  92   63\n",
       "8   60    2  32.1   83.0  179  119.4  42.0  4.00  4.4773  94  110\n",
       "9   29    1  30.0   85.0  180   93.4  43.0  4.00  5.3845  88  310"
      ]
     },
     "execution_count": 115,
     "metadata": {},
     "output_type": "execute_result"
    }
   ],
   "source": [
    "df.head(10)"
   ]
  },
  {
   "cell_type": "code",
   "execution_count": 116,
   "metadata": {},
   "outputs": [
    {
     "name": "stdout",
     "output_type": "stream",
     "text": [
      "['AGE', 'SEX', 'BMI', 'BP', 'S1', 'S2', 'S3', 'S4', 'S5', 'S6', 'Y']\n"
     ]
    }
   ],
   "source": [
    "labels = list(df.columns)\n",
    "print(labels)"
   ]
  },
  {
   "cell_type": "code",
   "execution_count": 57,
   "metadata": {},
   "outputs": [],
   "source": [
    "op1 = df.corr()"
   ]
  },
  {
   "cell_type": "code",
   "execution_count": 58,
   "metadata": {},
   "outputs": [
    {
     "name": "stdout",
     "output_type": "stream",
     "text": [
      "        AGE       SEX      BMI        BP        S1        S2        S3  \\\n",
      "Y  0.187889  0.043062  0.58645  0.441482  0.212022  0.174054 -0.394789   \n",
      "\n",
      "         S4        S5        S6    Y  \n",
      "Y  0.430453  0.565883  0.382483  1.0  \n"
     ]
    }
   ],
   "source": [
    "print(op1.iloc[-1:])"
   ]
  },
  {
   "cell_type": "code",
   "execution_count": 117,
   "metadata": {},
   "outputs": [
    {
     "name": "stdout",
     "output_type": "stream",
     "text": [
      "AGE     48.518100\n",
      "SEX      1.468326\n",
      "BMI     26.375792\n",
      "BP      94.647014\n",
      "S1     189.140271\n",
      "S2     115.439140\n",
      "S3      49.788462\n",
      "S4       4.070249\n",
      "S5       4.641411\n",
      "S6      91.260181\n",
      "Y      152.133484\n",
      "dtype: float64\n"
     ]
    }
   ],
   "source": [
    "#Tinh cov(x,y)\n",
    "avg_df = df.mean(axis=0)\n",
    "print(avg_df)"
   ]
  },
  {
   "cell_type": "code",
   "execution_count": 118,
   "metadata": {},
   "outputs": [
    {
     "name": "stdout",
     "output_type": "stream",
     "text": [
      "442\n"
     ]
    }
   ],
   "source": [
    "print(len(df))"
   ]
  },
  {
   "cell_type": "markdown",
   "metadata": {},
   "source": [
    "## CORRELATION COEFFICIENT"
   ]
  },
  {
   "cell_type": "code",
   "execution_count": 2,
   "metadata": {},
   "outputs": [],
   "source": [
    "def get_corr_1(df):\n",
    "    # remove object type\n",
    "    drop_col = []\n",
    "    for i in df.columns:\n",
    "        if df[i].dtypes == object:\n",
    "            drop_col.append(i)\n",
    "    df = df.drop(columns = drop_col)\n",
    "\n",
    "    list_cov_x_y = []\n",
    "    len_col = len(df.columns)\n",
    "    len_row = len(df)\n",
    "    labels = list(df.columns)\n",
    "    print(labels)\n",
    "    #COV(x, y)\n",
    "    list_cov_x_y = []\n",
    "    len_col = len(df.columns)\n",
    "    len_row = len(df)\n",
    "    print(len_col, len_row)\n",
    "    for i in range(0,len_col):\n",
    "        cov_x_y = 0.0\n",
    "        for j in range(0,len_row):\n",
    "            # print(df.iloc[j,i])\n",
    "            cov_x_y += (df.iloc[j,i]-df.iloc[:,i].mean())*(df.iloc[j,len_col-1]-df.iloc[:,len_col-1].mean())\n",
    "        cov_x_y /= len_row\n",
    "        list_cov_x_y.append(cov_x_y)\n",
    "    #COV(x)\n",
    "    list_cov_x = []\n",
    "\n",
    "    for i in range(0,len_col):\n",
    "        cov_x = 0.0\n",
    "        for j in range(0,len_row):\n",
    "            cov_x += (df.iloc[j,i]-df.iloc[:,i].mean())**2\n",
    "        cov_x /= (len_row-1)\n",
    "        list_cov_x.append(cov_x**0.5)\n",
    "    #COV(y)\n",
    "    list_cov_y = []\n",
    "    for i in range(0,len_col):\n",
    "        cov_y = 0.0\n",
    "        for j in range(0,len_row):\n",
    "            cov_y += (df.iloc[j,len_col-1]-df.iloc[:,len_col-1].mean())**2\n",
    "        cov_y /= (len_row-1)\n",
    "        list_cov_y.append(cov_y**0.5)\n",
    "    #CORR(x,y)\n",
    "    list_corr = []\n",
    "    for i in range(0,len_col):\n",
    "        list_corr.append(list_cov_x_y[i]/(list_cov_x[i]*list_cov_y[i]))\n",
    "    #CREATE CORR DATAFRAME\n",
    "    list_corr = pd.DataFrame(list_corr, columns=['Y'])\n",
    "    labels = pd.Index(labels)\n",
    "    list_corr = list_corr.set_index(labels)\n",
    "    return list_corr"
   ]
  },
  {
   "cell_type": "code",
   "execution_count": 119,
   "metadata": {},
   "outputs": [
    {
     "name": "stdout",
     "output_type": "stream",
     "text": [
      "11\n"
     ]
    }
   ],
   "source": [
    "corr_matrix = get_corr_1(df)"
   ]
  },
  {
   "cell_type": "code",
   "execution_count": 120,
   "metadata": {},
   "outputs": [
    {
     "data": {
      "image/png": "[encoded data removed]",
      "text/plain": [
       "<Figure size 720x720 with 2 Axes>"
      ]
     },
     "metadata": {
      "needs_background": "light"
     },
     "output_type": "display_data"
    }
   ],
   "source": [
    "plt.figure(figsize=(10, 10))\n",
    "plt.title('Correlation Heatmap of Dataset')\n",
    "a = sns.heatmap(corr_matrix, square=True, annot=True, fmt='.2f', linecolor='black')\n",
    "a.set_xticklabels(a.get_xticklabels(), rotation=30)\n",
    "a.set_yticklabels(a.get_yticklabels(), rotation=30)           \n",
    "plt.show()  "
   ]
  },
  {
   "cell_type": "markdown",
   "metadata": {},
   "source": [
    "## TRAIN TEST SPLIT"
   ]
  },
  {
   "cell_type": "code",
   "execution_count": 64,
   "metadata": {},
   "outputs": [],
   "source": [
    "def train_test_split(features, labels, test_size, random_state):\n",
    "    shuffle_feature_df = features.sample(frac=random_state,replace=True)\n",
    "    shuffle_label_df = pd.DataFrame(columns=labels.columns)\n",
    "    # print(shuffle_feature_df.head())\n",
    "\n",
    "    for index, row in shuffle_feature_df.iterrows():\n",
    "        # print(index)\n",
    "        shuffle_label_df.loc[len(shuffle_label_df)] = labels.loc[index]\n",
    "    test_size = int(0.8*len(shuffle_feature_df))\n",
    "    X_train = shuffle_feature_df[test_size:]\n",
    "    X_test = shuffle_feature_df[:test_size]\n",
    "    y_train = shuffle_label_df[test_size:]\n",
    "    y_test = shuffle_label_df[:test_size]\n",
    "    return X_train, X_test, y_train, y_test"
   ]
  },
  {
   "cell_type": "markdown",
   "metadata": {},
   "source": [
    "## CONNECT DATABASE"
   ]
  },
  {
   "cell_type": "code",
   "execution_count": 3,
   "metadata": {},
   "outputs": [],
   "source": [
    "import mysql.connector as mysql\n",
    "from mysql.connector import Error\n",
    "import sqlite3"
   ]
  },
  {
   "cell_type": "code",
   "execution_count": 30,
   "metadata": {},
   "outputs": [
    {
     "data": {
      "text/html": [
       "<div>\n",
       "<style scoped>\n",
       "    .dataframe tbody tr th:only-of-type {\n",
       "        vertical-align: middle;\n",
       "    }\n",
       "\n",
       "    .dataframe tbody tr th {\n",
       "        vertical-align: top;\n",
       "    }\n",
       "\n",
       "    .dataframe thead th {\n",
       "        text-align: right;\n",
       "    }\n",
       "</style>\n",
       "<table border=\"1\" class=\"dataframe\">\n",
       "  <thead>\n",
       "    <tr style=\"text-align: right;\">\n",
       "      <th></th>\n",
       "      <th>City</th>\n",
       "      <th>Date</th>\n",
       "      <th>PM2.5</th>\n",
       "      <th>PM10</th>\n",
       "      <th>NO</th>\n",
       "      <th>NO2</th>\n",
       "      <th>NOx</th>\n",
       "      <th>NH3</th>\n",
       "      <th>CO</th>\n",
       "      <th>SO2</th>\n",
       "      <th>O3</th>\n",
       "      <th>Benzene</th>\n",
       "      <th>Toluene</th>\n",
       "      <th>Xylene</th>\n",
       "      <th>AQI</th>\n",
       "      <th>AQI_Bucket</th>\n",
       "    </tr>\n",
       "  </thead>\n",
       "  <tbody>\n",
       "    <tr>\n",
       "      <th>0</th>\n",
       "      <td>Ahmedabad</td>\n",
       "      <td>2015-01-01</td>\n",
       "      <td>NaN</td>\n",
       "      <td>NaN</td>\n",
       "      <td>0.92</td>\n",
       "      <td>18.22</td>\n",
       "      <td>17.15</td>\n",
       "      <td>NaN</td>\n",
       "      <td>0.92</td>\n",
       "      <td>27.64</td>\n",
       "      <td>133.36</td>\n",
       "      <td>0.00</td>\n",
       "      <td>0.02</td>\n",
       "      <td>0.00</td>\n",
       "      <td>NaN</td>\n",
       "      <td>NaN</td>\n",
       "    </tr>\n",
       "    <tr>\n",
       "      <th>1</th>\n",
       "      <td>Ahmedabad</td>\n",
       "      <td>2015-01-02</td>\n",
       "      <td>NaN</td>\n",
       "      <td>NaN</td>\n",
       "      <td>0.97</td>\n",
       "      <td>15.69</td>\n",
       "      <td>16.46</td>\n",
       "      <td>NaN</td>\n",
       "      <td>0.97</td>\n",
       "      <td>24.55</td>\n",
       "      <td>34.06</td>\n",
       "      <td>3.68</td>\n",
       "      <td>5.50</td>\n",
       "      <td>3.77</td>\n",
       "      <td>NaN</td>\n",
       "      <td>NaN</td>\n",
       "    </tr>\n",
       "    <tr>\n",
       "      <th>2</th>\n",
       "      <td>Ahmedabad</td>\n",
       "      <td>2015-01-03</td>\n",
       "      <td>NaN</td>\n",
       "      <td>NaN</td>\n",
       "      <td>17.40</td>\n",
       "      <td>19.30</td>\n",
       "      <td>29.70</td>\n",
       "      <td>NaN</td>\n",
       "      <td>17.40</td>\n",
       "      <td>29.07</td>\n",
       "      <td>30.70</td>\n",
       "      <td>6.80</td>\n",
       "      <td>16.40</td>\n",
       "      <td>2.25</td>\n",
       "      <td>NaN</td>\n",
       "      <td>NaN</td>\n",
       "    </tr>\n",
       "    <tr>\n",
       "      <th>3</th>\n",
       "      <td>Ahmedabad</td>\n",
       "      <td>2015-01-04</td>\n",
       "      <td>NaN</td>\n",
       "      <td>NaN</td>\n",
       "      <td>1.70</td>\n",
       "      <td>18.48</td>\n",
       "      <td>17.97</td>\n",
       "      <td>NaN</td>\n",
       "      <td>1.70</td>\n",
       "      <td>18.59</td>\n",
       "      <td>36.08</td>\n",
       "      <td>4.43</td>\n",
       "      <td>10.14</td>\n",
       "      <td>1.00</td>\n",
       "      <td>NaN</td>\n",
       "      <td>NaN</td>\n",
       "    </tr>\n",
       "    <tr>\n",
       "      <th>4</th>\n",
       "      <td>Ahmedabad</td>\n",
       "      <td>2015-01-05</td>\n",
       "      <td>NaN</td>\n",
       "      <td>NaN</td>\n",
       "      <td>22.10</td>\n",
       "      <td>21.42</td>\n",
       "      <td>37.76</td>\n",
       "      <td>NaN</td>\n",
       "      <td>22.10</td>\n",
       "      <td>39.33</td>\n",
       "      <td>39.31</td>\n",
       "      <td>7.01</td>\n",
       "      <td>18.89</td>\n",
       "      <td>2.78</td>\n",
       "      <td>NaN</td>\n",
       "      <td>NaN</td>\n",
       "    </tr>\n",
       "  </tbody>\n",
       "</table>\n",
       "</div>"
      ],
      "text/plain": [
       "        City        Date  PM2.5  PM10     NO    NO2    NOx  NH3     CO    SO2  \\\n",
       "0  Ahmedabad  2015-01-01    NaN   NaN   0.92  18.22  17.15  NaN   0.92  27.64   \n",
       "1  Ahmedabad  2015-01-02    NaN   NaN   0.97  15.69  16.46  NaN   0.97  24.55   \n",
       "2  Ahmedabad  2015-01-03    NaN   NaN  17.40  19.30  29.70  NaN  17.40  29.07   \n",
       "3  Ahmedabad  2015-01-04    NaN   NaN   1.70  18.48  17.97  NaN   1.70  18.59   \n",
       "4  Ahmedabad  2015-01-05    NaN   NaN  22.10  21.42  37.76  NaN  22.10  39.33   \n",
       "\n",
       "       O3  Benzene  Toluene  Xylene  AQI AQI_Bucket  \n",
       "0  133.36     0.00     0.02    0.00  NaN        NaN  \n",
       "1   34.06     3.68     5.50    3.77  NaN        NaN  \n",
       "2   30.70     6.80    16.40    2.25  NaN        NaN  \n",
       "3   36.08     4.43    10.14    1.00  NaN        NaN  \n",
       "4   39.31     7.01    18.89    2.78  NaN        NaN  "
      ]
     },
     "execution_count": 30,
     "metadata": {},
     "output_type": "execute_result"
    }
   ],
   "source": [
    "city_db = pd.read_csv('city_day.csv')\n",
    "city_db.head()"
   ]
  },
  {
   "cell_type": "code",
   "execution_count": 66,
   "metadata": {},
   "outputs": [
    {
     "name": "stdout",
     "output_type": "stream",
     "text": [
      "Database is created\n"
     ]
    }
   ],
   "source": [
    "# Create database\n",
    "\n",
    "'''\n",
    "try:\n",
    "    connection = mysql.connect(host='localhost',user='root',password='cuong#Super2001')\n",
    "    if connection.is_connected():\n",
    "        cursor = connection.cursor()\n",
    "        cursor.execute('CREATE DATABASE if not exists air_quality')\n",
    "        print('Database is created')\n",
    "        \n",
    "except Error as e:\n",
    "    print('Error connect to MySQL')\n",
    "\n",
    "'''"
   ]
  },
  {
   "cell_type": "code",
   "execution_count": 36,
   "metadata": {},
   "outputs": [],
   "source": [
    "def checkTableExists(schema_name, table_name):\n",
    "    try:\n",
    "        connection = mysql.connect(host='localhost',database=schema_name,user='root',password='cuong#Super2001')\n",
    "        if connection.is_connected():\n",
    "            print('MySQL is connected')\n",
    "            cursor = connection.cursor()\n",
    "            sql = '''select count(*) from information_schema.tables\n",
    "                    where table_schema=(%s)\n",
    "                    and table_name=(%s)'''\n",
    "            cursor.execute(sql,(schema_name,table_name))\n",
    "            print('MySQL is connected 2')\n",
    "            result = cursor.fetchone()[0]\n",
    "            connection.commit()\n",
    "            cursor.close()\n",
    "            if result == 0:\n",
    "                return False\n",
    "            else:\n",
    "                return True\n",
    "    except Error as e:\n",
    "        print('Error connect to MySQL: ',e)\n",
    "        return True"
   ]
  },
  {
   "cell_type": "code",
   "execution_count": null,
   "metadata": {},
   "outputs": [],
   "source": [
    "# Check if table exists, drop it\n",
    "'''\n",
    "exist = checkTableExists('air_quality','raw_data')\n",
    "print(exist)\n",
    "if exist:\n",
    "    try:\n",
    "        connection = mysql.connect(host='localhost',database='air_quality',user='root',password='cuong#Super2001')\n",
    "        if connection.is_connected():\n",
    "            cursor = connection.cursor()\n",
    "            tbl_name = \"raw_data\"\n",
    "            sql = \"drop table if exists \"+tbl_name\n",
    "            cursor.execute(sql)\n",
    "            print('Table was dropped')\n",
    "            connection.commit()\n",
    "            cursor.close()\n",
    "    except Error as e:\n",
    "        print('Error',e)\n",
    "\n",
    "'''"
   ]
  },
  {
   "cell_type": "code",
   "execution_count": 10,
   "metadata": {},
   "outputs": [
    {
     "name": "stdout",
     "output_type": "stream",
     "text": [
      "New table was created\n"
     ]
    }
   ],
   "source": [
    "# Create table for correlation matrix\n",
    "try:\n",
    "    connection = mysql.connect(host='localhost',database='air_quality',user='root',password='cuong#Super2001')\n",
    "    if connection.is_connected():\n",
    "        cursor = connection.cursor()\n",
    "        cursor.execute('CREATE TABLE if not exists corr_matrix (`PM2.5` double,`PM10` double,`NO` double,`NO2` double,NOx double,`NH3` double,`CO` double,`SO2` double,O3 double,Benzene double,Toluene double,Xylene double,AQI double)')\n",
    "        print('New table was created')\n",
    "        connection.commit()\n",
    "        cursor.close()\n",
    "except Error as e:\n",
    "    print('Error')\n",
    "\n"
   ]
  },
  {
   "cell_type": "code",
   "execution_count": 4,
   "metadata": {},
   "outputs": [
    {
     "name": "stdout",
     "output_type": "stream",
     "text": [
      "29531\n"
     ]
    }
   ],
   "source": [
    "# get all records from database\n",
    "\n",
    "try:\n",
    "    connection = mysql.connect(host='localhost',database='air_quality',user='root',password='cuong#Super2001')\n",
    "    if connection.is_connected():\n",
    "        cursor = connection.cursor()\n",
    "        sql = \"select * from air_quality_raw\"\n",
    "        cursor.execute(sql)\n",
    "        record = cursor.fetchall()\n",
    "        print(len(record))\n",
    "        connection.commit()\n",
    "        cursor.close()\n",
    "except Error as e:\n",
    "    print('Error',e)"
   ]
  },
  {
   "cell_type": "code",
   "execution_count": 5,
   "metadata": {},
   "outputs": [],
   "source": [
    "df = pd.DataFrame(record,columns=['ID','City','Date','PM2.5','PM10','NO','NO2','NOx','NH3','CO','SO2','O3','Benzene','Toluene','Xylene','AQI','AQI_Bucket'])\n",
    "# df = pd.read_csv('IOT/city_day.csv')\n",
    "df = df.drop(columns=['ID'])"
   ]
  },
  {
   "cell_type": "code",
   "execution_count": 6,
   "metadata": {},
   "outputs": [
    {
     "data": {
      "text/plain": [
       "(6236, 16)"
      ]
     },
     "execution_count": 6,
     "metadata": {},
     "output_type": "execute_result"
    }
   ],
   "source": [
    "new_df = df.dropna()\n",
    "new_df.shape"
   ]
  },
  {
   "cell_type": "code",
   "execution_count": 7,
   "metadata": {},
   "outputs": [
    {
     "name": "stdout",
     "output_type": "stream",
     "text": [
      "['PM2.5', 'PM10', 'NO', 'NO2', 'NOx', 'NH3', 'CO', 'SO2', 'O3', 'Benzene', 'Toluene', 'Xylene', 'AQI']\n",
      "13\n"
     ]
    }
   ],
   "source": [
    "corr_matrix = get_corr_1(new_df)\n",
    "# corr_matrix = new_df.corr()"
   ]
  },
  {
   "cell_type": "code",
   "execution_count": 9,
   "metadata": {},
   "outputs": [
    {
     "data": {
      "text/html": [
       "<div>\n",
       "<style scoped>\n",
       "    .dataframe tbody tr th:only-of-type {\n",
       "        vertical-align: middle;\n",
       "    }\n",
       "\n",
       "    .dataframe tbody tr th {\n",
       "        vertical-align: top;\n",
       "    }\n",
       "\n",
       "    .dataframe thead th {\n",
       "        text-align: right;\n",
       "    }\n",
       "</style>\n",
       "<table border=\"1\" class=\"dataframe\">\n",
       "  <thead>\n",
       "    <tr style=\"text-align: right;\">\n",
       "      <th></th>\n",
       "      <th>PM2.5</th>\n",
       "      <th>PM10</th>\n",
       "      <th>NO</th>\n",
       "      <th>NO2</th>\n",
       "      <th>NOx</th>\n",
       "      <th>NH3</th>\n",
       "      <th>CO</th>\n",
       "      <th>SO2</th>\n",
       "      <th>O3</th>\n",
       "      <th>Benzene</th>\n",
       "      <th>Toluene</th>\n",
       "      <th>Xylene</th>\n",
       "      <th>AQI</th>\n",
       "    </tr>\n",
       "  </thead>\n",
       "  <tbody>\n",
       "    <tr>\n",
       "      <th>PM2.5</th>\n",
       "      <td>0.999840</td>\n",
       "      <td>0.895399</td>\n",
       "      <td>0.604142</td>\n",
       "      <td>0.558965</td>\n",
       "      <td>0.618606</td>\n",
       "      <td>0.581932</td>\n",
       "      <td>0.422418</td>\n",
       "      <td>0.249527</td>\n",
       "      <td>0.293644</td>\n",
       "      <td>0.203540</td>\n",
       "      <td>0.475858</td>\n",
       "      <td>0.068730</td>\n",
       "      <td>0.923880</td>\n",
       "    </tr>\n",
       "    <tr>\n",
       "      <th>PM10</th>\n",
       "      <td>0.895399</td>\n",
       "      <td>0.999840</td>\n",
       "      <td>0.633238</td>\n",
       "      <td>0.625072</td>\n",
       "      <td>0.672885</td>\n",
       "      <td>0.585461</td>\n",
       "      <td>0.395568</td>\n",
       "      <td>0.280256</td>\n",
       "      <td>0.306306</td>\n",
       "      <td>0.222341</td>\n",
       "      <td>0.518638</td>\n",
       "      <td>0.092881</td>\n",
       "      <td>0.916429</td>\n",
       "    </tr>\n",
       "    <tr>\n",
       "      <th>NO</th>\n",
       "      <td>0.604142</td>\n",
       "      <td>0.633238</td>\n",
       "      <td>0.999840</td>\n",
       "      <td>0.527341</td>\n",
       "      <td>0.875453</td>\n",
       "      <td>0.432725</td>\n",
       "      <td>0.292865</td>\n",
       "      <td>0.200932</td>\n",
       "      <td>0.048594</td>\n",
       "      <td>0.377871</td>\n",
       "      <td>0.541059</td>\n",
       "      <td>0.134848</td>\n",
       "      <td>0.621932</td>\n",
       "    </tr>\n",
       "    <tr>\n",
       "      <th>NO2</th>\n",
       "      <td>0.558965</td>\n",
       "      <td>0.625072</td>\n",
       "      <td>0.527341</td>\n",
       "      <td>0.999840</td>\n",
       "      <td>0.692162</td>\n",
       "      <td>0.387326</td>\n",
       "      <td>0.231736</td>\n",
       "      <td>0.386108</td>\n",
       "      <td>0.251822</td>\n",
       "      <td>0.246768</td>\n",
       "      <td>0.499024</td>\n",
       "      <td>0.081061</td>\n",
       "      <td>0.576215</td>\n",
       "    </tr>\n",
       "    <tr>\n",
       "      <th>NOx</th>\n",
       "      <td>0.618606</td>\n",
       "      <td>0.672885</td>\n",
       "      <td>0.875453</td>\n",
       "      <td>0.692162</td>\n",
       "      <td>0.999840</td>\n",
       "      <td>0.411056</td>\n",
       "      <td>0.335994</td>\n",
       "      <td>0.192063</td>\n",
       "      <td>0.083124</td>\n",
       "      <td>0.492625</td>\n",
       "      <td>0.596353</td>\n",
       "      <td>0.183245</td>\n",
       "      <td>0.658159</td>\n",
       "    </tr>\n",
       "    <tr>\n",
       "      <th>NH3</th>\n",
       "      <td>0.581932</td>\n",
       "      <td>0.585461</td>\n",
       "      <td>0.432725</td>\n",
       "      <td>0.387326</td>\n",
       "      <td>0.411056</td>\n",
       "      <td>0.999840</td>\n",
       "      <td>0.449268</td>\n",
       "      <td>0.192542</td>\n",
       "      <td>0.157246</td>\n",
       "      <td>0.101497</td>\n",
       "      <td>0.323511</td>\n",
       "      <td>0.015098</td>\n",
       "      <td>0.589601</td>\n",
       "    </tr>\n",
       "    <tr>\n",
       "      <th>CO</th>\n",
       "      <td>0.422418</td>\n",
       "      <td>0.395568</td>\n",
       "      <td>0.292865</td>\n",
       "      <td>0.231736</td>\n",
       "      <td>0.335994</td>\n",
       "      <td>0.449268</td>\n",
       "      <td>0.999840</td>\n",
       "      <td>0.046110</td>\n",
       "      <td>0.058779</td>\n",
       "      <td>0.107551</td>\n",
       "      <td>0.200819</td>\n",
       "      <td>0.111246</td>\n",
       "      <td>0.494429</td>\n",
       "    </tr>\n",
       "    <tr>\n",
       "      <th>SO2</th>\n",
       "      <td>0.249527</td>\n",
       "      <td>0.280256</td>\n",
       "      <td>0.200932</td>\n",
       "      <td>0.386108</td>\n",
       "      <td>0.192063</td>\n",
       "      <td>0.192542</td>\n",
       "      <td>0.046110</td>\n",
       "      <td>0.999840</td>\n",
       "      <td>0.252198</td>\n",
       "      <td>-0.003376</td>\n",
       "      <td>0.155421</td>\n",
       "      <td>0.002030</td>\n",
       "      <td>0.254645</td>\n",
       "    </tr>\n",
       "    <tr>\n",
       "      <th>O3</th>\n",
       "      <td>0.293644</td>\n",
       "      <td>0.306306</td>\n",
       "      <td>0.048594</td>\n",
       "      <td>0.251822</td>\n",
       "      <td>0.083124</td>\n",
       "      <td>0.157246</td>\n",
       "      <td>0.058779</td>\n",
       "      <td>0.252198</td>\n",
       "      <td>0.999840</td>\n",
       "      <td>-0.037911</td>\n",
       "      <td>0.068538</td>\n",
       "      <td>-0.079159</td>\n",
       "      <td>0.334555</td>\n",
       "    </tr>\n",
       "    <tr>\n",
       "      <th>Benzene</th>\n",
       "      <td>0.203540</td>\n",
       "      <td>0.222341</td>\n",
       "      <td>0.377871</td>\n",
       "      <td>0.246768</td>\n",
       "      <td>0.492625</td>\n",
       "      <td>0.101497</td>\n",
       "      <td>0.107551</td>\n",
       "      <td>-0.003376</td>\n",
       "      <td>-0.037911</td>\n",
       "      <td>0.999840</td>\n",
       "      <td>0.469180</td>\n",
       "      <td>0.281088</td>\n",
       "      <td>0.207894</td>\n",
       "    </tr>\n",
       "    <tr>\n",
       "      <th>Toluene</th>\n",
       "      <td>0.475858</td>\n",
       "      <td>0.518638</td>\n",
       "      <td>0.541059</td>\n",
       "      <td>0.499024</td>\n",
       "      <td>0.596353</td>\n",
       "      <td>0.323511</td>\n",
       "      <td>0.200819</td>\n",
       "      <td>0.155421</td>\n",
       "      <td>0.068538</td>\n",
       "      <td>0.469180</td>\n",
       "      <td>0.999840</td>\n",
       "      <td>0.136288</td>\n",
       "      <td>0.466271</td>\n",
       "    </tr>\n",
       "    <tr>\n",
       "      <th>Xylene</th>\n",
       "      <td>0.068730</td>\n",
       "      <td>0.092881</td>\n",
       "      <td>0.134848</td>\n",
       "      <td>0.081061</td>\n",
       "      <td>0.183245</td>\n",
       "      <td>0.015098</td>\n",
       "      <td>0.111246</td>\n",
       "      <td>0.002030</td>\n",
       "      <td>-0.079159</td>\n",
       "      <td>0.281088</td>\n",
       "      <td>0.136288</td>\n",
       "      <td>0.999840</td>\n",
       "      <td>0.073862</td>\n",
       "    </tr>\n",
       "    <tr>\n",
       "      <th>AQI</th>\n",
       "      <td>0.923880</td>\n",
       "      <td>0.916429</td>\n",
       "      <td>0.621932</td>\n",
       "      <td>0.576215</td>\n",
       "      <td>0.658159</td>\n",
       "      <td>0.589601</td>\n",
       "      <td>0.494429</td>\n",
       "      <td>0.254645</td>\n",
       "      <td>0.334555</td>\n",
       "      <td>0.207894</td>\n",
       "      <td>0.466271</td>\n",
       "      <td>0.073862</td>\n",
       "      <td>0.999840</td>\n",
       "    </tr>\n",
       "  </tbody>\n",
       "</table>\n",
       "</div>"
      ],
      "text/plain": [
       "            PM2.5      PM10        NO       NO2       NOx       NH3        CO  \\\n",
       "PM2.5    0.999840  0.895399  0.604142  0.558965  0.618606  0.581932  0.422418   \n",
       "PM10     0.895399  0.999840  0.633238  0.625072  0.672885  0.585461  0.395568   \n",
       "NO       0.604142  0.633238  0.999840  0.527341  0.875453  0.432725  0.292865   \n",
       "NO2      0.558965  0.625072  0.527341  0.999840  0.692162  0.387326  0.231736   \n",
       "NOx      0.618606  0.672885  0.875453  0.692162  0.999840  0.411056  0.335994   \n",
       "NH3      0.581932  0.585461  0.432725  0.387326  0.411056  0.999840  0.449268   \n",
       "CO       0.422418  0.395568  0.292865  0.231736  0.335994  0.449268  0.999840   \n",
       "SO2      0.249527  0.280256  0.200932  0.386108  0.192063  0.192542  0.046110   \n",
       "O3       0.293644  0.306306  0.048594  0.251822  0.083124  0.157246  0.058779   \n",
       "Benzene  0.203540  0.222341  0.377871  0.246768  0.492625  0.101497  0.107551   \n",
       "Toluene  0.475858  0.518638  0.541059  0.499024  0.596353  0.323511  0.200819   \n",
       "Xylene   0.068730  0.092881  0.134848  0.081061  0.183245  0.015098  0.111246   \n",
       "AQI      0.923880  0.916429  0.621932  0.576215  0.658159  0.589601  0.494429   \n",
       "\n",
       "              SO2        O3   Benzene   Toluene    Xylene       AQI  \n",
       "PM2.5    0.249527  0.293644  0.203540  0.475858  0.068730  0.923880  \n",
       "PM10     0.280256  0.306306  0.222341  0.518638  0.092881  0.916429  \n",
       "NO       0.200932  0.048594  0.377871  0.541059  0.134848  0.621932  \n",
       "NO2      0.386108  0.251822  0.246768  0.499024  0.081061  0.576215  \n",
       "NOx      0.192063  0.083124  0.492625  0.596353  0.183245  0.658159  \n",
       "NH3      0.192542  0.157246  0.101497  0.323511  0.015098  0.589601  \n",
       "CO       0.046110  0.058779  0.107551  0.200819  0.111246  0.494429  \n",
       "SO2      0.999840  0.252198 -0.003376  0.155421  0.002030  0.254645  \n",
       "O3       0.252198  0.999840 -0.037911  0.068538 -0.079159  0.334555  \n",
       "Benzene -0.003376 -0.037911  0.999840  0.469180  0.281088  0.207894  \n",
       "Toluene  0.155421  0.068538  0.469180  0.999840  0.136288  0.466271  \n",
       "Xylene   0.002030 -0.079159  0.281088  0.136288  0.999840  0.073862  \n",
       "AQI      0.254645  0.334555  0.207894  0.466271  0.073862  0.999840  "
      ]
     },
     "execution_count": 9,
     "metadata": {},
     "output_type": "execute_result"
    }
   ],
   "source": [
    "corr_matrix"
   ]
  },
  {
   "cell_type": "code",
   "execution_count": 11,
   "metadata": {},
   "outputs": [],
   "source": [
    "# Import records of corr_matrix into database\n",
    "try:\n",
    "    connection = mysql.connect(host='localhost',database='air_quality',user='root',password='cuong#Super2001')\n",
    "    if connection.is_connected():\n",
    "        cursor = connection.cursor()\n",
    "        for i,row in corr_matrix.iterrows():\n",
    "            sql = \"INSERT INTO corr_matrix VALUES (%s,%s,%s,%s,%s,%s,%s,%s,%s,%s,%s,%s,%s)\"\n",
    "            cursor.execute(sql,tuple(row))\n",
    "            # print('Inserted record')\n",
    "        connection.commit()\n",
    "        cursor.close()\n",
    "except Error as e:\n",
    "    print('Error')\n"
   ]
  },
  {
   "cell_type": "code",
   "execution_count": 8,
   "metadata": {},
   "outputs": [
    {
     "data": {
      "image/png": "[encoded data removed]",
      "text/plain": [
       "<Figure size 720x720 with 2 Axes>"
      ]
     },
     "metadata": {
      "needs_background": "light"
     },
     "output_type": "display_data"
    }
   ],
   "source": [
    "plt.figure(figsize=(10, 10))\n",
    "plt.title('Correlation Heatmap of Dataset')\n",
    "a = sns.heatmap(corr_matrix, square=True, annot=True, fmt='.2f', linecolor='black')\n",
    "a.set_xticklabels(a.get_xticklabels(), rotation=30)\n",
    "a.set_yticklabels(a.get_yticklabels(), rotation=30)           \n",
    "plt.show()  "
   ]
  },
  {
   "cell_type": "code",
   "execution_count": 12,
   "metadata": {},
   "outputs": [
    {
     "name": "stdout",
     "output_type": "stream",
     "text": [
      "13\n"
     ]
    }
   ],
   "source": [
    "# get all records from corr_matrix db\n",
    "try:\n",
    "    connection = mysql.connect(host='localhost',database='air_quality',user='root',password='cuong#Super2001')\n",
    "    if connection.is_connected():\n",
    "        cursor = connection.cursor()\n",
    "        sql = \"select * from corr_matrix\"\n",
    "        cursor.execute(sql)\n",
    "        corr_record = cursor.fetchall()\n",
    "        print(len(corr_record))\n",
    "        connection.commit()\n",
    "        cursor.close()\n",
    "except Error as e:\n",
    "    print('Error',e)"
   ]
  },
  {
   "cell_type": "code",
   "execution_count": null,
   "metadata": {},
   "outputs": [],
   "source": []
  }
 ],
 "metadata": {
  "kernelspec": {
   "display_name": "Python 3.9.7 64-bit",
   "language": "python",
   "name": "python3"
  },
  "language_info": {
   "codemirror_mode": {
    "name": "ipython",
    "version": 3
   },
   "file_extension": ".py",
   "mimetype": "text/x-python",
   "name": "python",
   "nbconvert_exporter": "python",
   "pygments_lexer": "ipython3",
   "version": "3.9.7 (tags/v3.9.7:1016ef3, Aug 30 2021, 20:19:38) [MSC v.1929 64 bit (AMD64)]"
  },
  "orig_nbformat": 4,
  "vscode": {
   "interpreter": {
    "hash": "25034407fed5d681614dac11a1c0537e8cb49e3a8883c071303eea01322943d9"
   }
  }
 },
 "nbformat": 4,
 "nbformat_minor": 2
}
